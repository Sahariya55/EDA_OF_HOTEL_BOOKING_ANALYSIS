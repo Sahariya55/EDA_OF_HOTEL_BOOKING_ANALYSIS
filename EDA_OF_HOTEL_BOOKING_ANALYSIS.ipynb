{
  "nbformat": 4,
  "nbformat_minor": 0,
  "metadata": {
    "colab": {
      "private_outputs": true,
      "provenance": [],
      "collapsed_sections": [
        "vncDsAP0Gaoa",
        "w6K7xa23Elo4",
        "yQaldy8SH6Dl",
        "mDgbUHAGgjLW",
        "HhfV-JJviCcP",
        "Y3lxredqlCYt",
        "3RnN4peoiCZX",
        "x71ZqKXriCWQ",
        "7hBIi_osiCS2",
        "JlHwYmJAmNHm",
        "35m5QtbWiB9F",
        "nA9Y7ga8ng1Z",
        "dauF4eBmngu3",
        "kCxKXkudbGEf",
        "55Gndn5-m_8h",
        "vqEjnjH3rId0",
        "Ee_9Mi4-wFb1",
        "dNgGYcbt0Kxx",
        "xR8LDDfD0YCQ",
        "dkWT0Iq08X6u",
        "y-Ehk30pYrdP",
        "gjkpfWZ80HBO",
        "FDGGs-yr5VoA",
        "Seke61FWphqN",
        "1Jb6uQA6s5Yi",
        "wRD_yP0kvUzq",
        "iG3planf22MS",
        "Xmu6buxcAns6",
        "LazBnNXRGL7k",
        "sP4laV7OGkIc",
        "E0qgXsOMLRsh",
        "U8B9n-31LhE4",
        "JMzcOPDDphqR",
        "flpZvsKkdwr2",
        "GWcC8rSMeM68",
        "PVzmfK_Ep1ck",
        "ylSl6qgtp1ck",
        "ZWILFDl5p1ck",
        "M7G43BXep1ck",
        "Ag9LCva-p1cl",
        "E6MkPsBcp1cl",
        "2cELzS2fp1cl",
        "3MPXvC8up1cl",
        "NC_X3p0fY2L0",
        "UV0SzAkaZNRQ",
        "YPEH6qLeZNRQ",
        "q29F0dvdveiT",
        "EXh0U9oCveiU",
        "22aHeOlLveiV",
        "JcMwzZxoAimU",
        "8G2x9gOozGDZ",
        "gCX9965dhzqZ",
        "gIfDvo9L0UH2"
      ],
      "include_colab_link": true
    },
    "kernelspec": {
      "name": "python3",
      "display_name": "Python 3"
    },
    "language_info": {
      "name": "python"
    }
  },
  "cells": [
    {
      "cell_type": "markdown",
      "metadata": {
        "id": "view-in-github",
        "colab_type": "text"
      },
      "source": [
        "<a href=\"https://colab.research.google.com/github/Sahariya55/EDA_OF_HOTEL_BOOKING_ANALYSIS/blob/master/EDA_OF_HOTEL_BOOKING_ANALYSIS.ipynb\" target=\"_parent\"><img src=\"https://colab.research.google.com/assets/colab-badge.svg\" alt=\"Open In Colab\"/></a>"
      ]
    },
    {
      "cell_type": "markdown",
      "source": [
        "# **Project Name**    - Hotel Booking Analysis\n",
        "\n"
      ],
      "metadata": {
        "id": "vncDsAP0Gaoa"
      }
    },
    {
      "cell_type": "markdown",
      "source": [
        "##### **Project Type**    - EDA (Exploratory Data Analysis)\n",
        "##### **Contribution**    - Individual"
      ],
      "metadata": {
        "id": "beRrZCGUAJYm"
      }
    },
    {
      "cell_type": "markdown",
      "source": [
        "# **Project Summary -**"
      ],
      "metadata": {
        "id": "FJNUwmbgGyua"
      }
    },
    {
      "cell_type": "markdown",
      "source": [
        "# Description :-\n",
        "\n",
        "Our project aims to analyze a comprehensive hotel booking dataset comprising bookings for both city and resort hotels. By leveraging advanced data analysis techniques, we seek to uncover crucial insights such as the optimal timing for booking rooms, the ideal duration of stay, and factors influencing the likelihood of special requests. Through this analysis, we aim to empower hotel management teams with actionable insights to enhance revenue generation, improve guest satisfaction, and optimize operational efficiency. Our findings will be presented in a detailed report, providing valuable guidance for strategic decision-making in the hospitality industry.\n",
        "\n",
        "# Project Activities :-\n",
        "\n",
        "*   Defining the Problem Statement\n",
        "*   Defining Business Objective\n",
        "*   Knowing and Understanding the Data\n",
        "*   Understanding the Variables\n",
        "*   Data Wrangling\n",
        "*   Data Vizualization, Storytelling & Experimenting with charts : Understand the relationships between variables\n",
        "*   Solution to Business Objective\n",
        "*   Conclusion\n",
        "\n",
        "\n",
        "\n",
        "\n",
        "\n",
        "\n",
        "\n"
      ],
      "metadata": {
        "id": "F6v_1wHtG2nS"
      }
    },
    {
      "cell_type": "markdown",
      "source": [
        "# **GitHub Link -**"
      ],
      "metadata": {
        "id": "w6K7xa23Elo4"
      }
    },
    {
      "cell_type": "markdown",
      "source": [
        "GitHub Link - https://github.com/Sahariya55/EDA_OF_HOTEL_BOOKING_ANALYSIS\n"
      ],
      "metadata": {
        "id": "h1o69JH3Eqqn"
      }
    },
    {
      "cell_type": "markdown",
      "source": [
        "# **Problem Statement**\n"
      ],
      "metadata": {
        "id": "yQaldy8SH6Dl"
      }
    },
    {
      "cell_type": "markdown",
      "source": [
        "\n",
        "The hotel industry faces the challenge of optimizing revenue while simultaneously ensuring guest satisfaction, maximizing bookings, and minimizing cancellations. To address this multifaceted challenge, a through analysis of hotel booking data is required. The analysis aims to uncover insights into booking trends, guest preferences, demand fluctuations, and factors contributing to cancellations. By leveraging data-driven insights, the hotel can develop strategic initiatives to improve revenue streams, enhance guest experiences, increase booking rates, and reduce cancellation rates. This holistic approach will enable the hotel to achieve its business objectives effectively and maintain a competitive edge in the hospitality market.\n",
        "\n"
      ],
      "metadata": {
        "id": "DpeJGUA3kjGy"
      }
    },
    {
      "cell_type": "markdown",
      "source": [
        "#### **Define Your Business Objective?**"
      ],
      "metadata": {
        "id": "PH-0ReGfmX4f"
      }
    },
    {
      "cell_type": "markdown",
      "source": [
        "*  **Improve Revenue Optimization**\n",
        "*  **Enhance Guest Satisfaction**\n",
        "*  **Maximise Bookings**\n",
        "*  **Minimise Cancellations**\n",
        "\n",
        "\n",
        "\n",
        "\n",
        "\n",
        "\n",
        "\n",
        "\n",
        "\n",
        "\n",
        "\n"
      ],
      "metadata": {
        "id": "R0-05zw0GSY8"
      }
    },
    {
      "cell_type": "markdown",
      "source": [
        "# **General Guidelines** : -  "
      ],
      "metadata": {
        "id": "mDgbUHAGgjLW"
      }
    },
    {
      "cell_type": "markdown",
      "source": [
        "1.   Well-structured, formatted, and commented code is required.\n",
        "2.   Exception Handling, Production Grade Code & Deployment Ready Code will be a plus. Those students will be awarded some additional credits.\n",
        "     \n",
        "     The additional credits will have advantages over other students during Star Student selection.\n",
        "       \n",
        "             [ Note: - Deployment Ready Code is defined as, the whole .ipynb notebook should be executable in one go\n",
        "                       without a single error logged. ]\n",
        "\n",
        "3.   Each and every logic should have proper comments.\n",
        "4. You may add as many number of charts you want. Make Sure for each and every chart the following format should be answered.\n",
        "        \n",
        "\n",
        "```\n",
        "# Chart visualization code\n",
        "```\n",
        "            \n",
        "\n",
        "*   Why did you pick the specific chart?\n",
        "*   What is/are the insight(s) found from the chart?\n",
        "* Will the gained insights help creating a positive business impact?\n",
        "Are there any insights that lead to negative growth? Justify with specific reason.\n",
        "\n",
        "5. You have to create at least 20 logical & meaningful charts having important insights.\n",
        "\n",
        "\n",
        "[ Hints : - Do the Vizualization in  a structured way while following \"UBM\" Rule.\n",
        "\n",
        "U - Univariate Analysis,\n",
        "\n",
        "B - Bivariate Analysis (Numerical - Categorical, Numerical - Numerical, Categorical - Categorical)\n",
        "\n",
        "M - Multivariate Analysis\n",
        " ]\n",
        "\n",
        "\n",
        "\n"
      ],
      "metadata": {
        "id": "ZrxVaUj-hHfC"
      }
    },
    {
      "cell_type": "markdown",
      "source": [
        "# ***Let's Begin !***"
      ],
      "metadata": {
        "id": "O_i_v8NEhb9l"
      }
    },
    {
      "cell_type": "markdown",
      "source": [
        "## ***1. Know Your Data***"
      ],
      "metadata": {
        "id": "HhfV-JJviCcP"
      }
    },
    {
      "cell_type": "markdown",
      "source": [
        "### Import Libraries"
      ],
      "metadata": {
        "id": "Y3lxredqlCYt"
      }
    },
    {
      "cell_type": "code",
      "source": [
        "# Import Libraries\n",
        "import numpy as np\n",
        "import pandas as pd\n",
        "\n",
        "import seaborn as sns\n",
        "import matplotlib.pyplot as plt\n",
        "%matplotlib inline\n",
        "from matplotlib import rcParams\n",
        "import plotly.express as px\n",
        "\n",
        "\n",
        "import warnings\n",
        "warnings.filterwarnings('ignore')"
      ],
      "metadata": {
        "id": "M8Vqi-pPk-HR"
      },
      "execution_count": null,
      "outputs": []
    },
    {
      "cell_type": "markdown",
      "source": [
        "### Dataset Loading"
      ],
      "metadata": {
        "id": "3RnN4peoiCZX"
      }
    },
    {
      "cell_type": "code",
      "source": [
        "# Mounting to google drive\n",
        "from google.colab import drive\n",
        "drive.mount('/content/drive')"
      ],
      "metadata": {
        "id": "4CkvbW_SlZ_R"
      },
      "execution_count": null,
      "outputs": []
    },
    {
      "cell_type": "code",
      "source": [
        "#Load DataSet\n",
        "path='/content/drive/MyDrive/Colab Notebooks/capstone project/Module-2/Capstone_project/Hotel Bookings.csv'\n",
        "df = pd.read_csv(path)"
      ],
      "metadata": {
        "id": "lChqxDhkRvpd"
      },
      "execution_count": null,
      "outputs": []
    },
    {
      "cell_type": "markdown",
      "source": [
        "### Dataset First View"
      ],
      "metadata": {
        "id": "x71ZqKXriCWQ"
      }
    },
    {
      "cell_type": "code",
      "source": [
        "# Dataset First Look\n",
        "df.head()"
      ],
      "metadata": {
        "id": "LWNFOSvLl09H"
      },
      "execution_count": null,
      "outputs": []
    },
    {
      "cell_type": "markdown",
      "source": [
        "### Dataset Rows & Columns count"
      ],
      "metadata": {
        "id": "7hBIi_osiCS2"
      }
    },
    {
      "cell_type": "code",
      "source": [
        "# Dataset Rows & Columns count\n",
        "df.shape"
      ],
      "metadata": {
        "id": "Kllu7SJgmLij"
      },
      "execution_count": null,
      "outputs": []
    },
    {
      "cell_type": "markdown",
      "source": [
        "### Dataset Information"
      ],
      "metadata": {
        "id": "JlHwYmJAmNHm"
      }
    },
    {
      "cell_type": "code",
      "source": [
        "# Dataset Info\n",
        "df.info()"
      ],
      "metadata": {
        "id": "e9hRXRi6meOf"
      },
      "execution_count": null,
      "outputs": []
    },
    {
      "cell_type": "markdown",
      "source": [
        "#### Duplicate Values"
      ],
      "metadata": {
        "id": "35m5QtbWiB9F"
      }
    },
    {
      "cell_type": "code",
      "source": [
        "# Dataset Duplicate Value Count\n",
        "len(df[df.duplicated()])"
      ],
      "metadata": {
        "id": "1sLdpKYkmox0"
      },
      "execution_count": null,
      "outputs": []
    },
    {
      "cell_type": "markdown",
      "source": [
        "#### Missing Values/Null Values"
      ],
      "metadata": {
        "id": "PoPl-ycgm1ru"
      }
    },
    {
      "cell_type": "code",
      "source": [
        "# Missing Values/Null Values Count\n",
        "null_val = df.isnull().sum()\n",
        "print(null_val)"
      ],
      "metadata": {
        "id": "GgHWkxvamxVg"
      },
      "execution_count": null,
      "outputs": []
    },
    {
      "cell_type": "code",
      "source": [
        "# Visualizing the missing values\n",
        "sns.heatmap(df.isnull(),cbar=False)"
      ],
      "metadata": {
        "id": "3q5wnI3om9sJ"
      },
      "execution_count": null,
      "outputs": []
    },
    {
      "cell_type": "markdown",
      "source": [
        "### What did you know about your dataset?"
      ],
      "metadata": {
        "id": "H0kj-8xxnORC"
      }
    },
    {
      "cell_type": "markdown",
      "source": [
        "The dataset given is a dataset from hotel industry. And we have to explore and analyze the data to discover important factors and control the bookings.\n",
        "\n",
        "The goal is to understand the dataset and take steps to improve revenue optimization,enhance guest satisfaction, maximise bookings and minimise cancellations.\n",
        "\n",
        "The above dataset has 119390 rows and 32 columns . The dataset have 31994 duplicate values . And there are total 129425 null values in the dataset ,children column has 4 null values, country column has 488 null values, agent column has 16340 null values and company column has 112593 null values are there."
      ],
      "metadata": {
        "id": "gfoNAAC-nUe_"
      }
    },
    {
      "cell_type": "markdown",
      "source": [
        "## ***2. Understanding Your Variables***"
      ],
      "metadata": {
        "id": "nA9Y7ga8ng1Z"
      }
    },
    {
      "cell_type": "code",
      "source": [
        "# Dataset Columns\n",
        "df.columns"
      ],
      "metadata": {
        "id": "j7xfkqrt5Ag5"
      },
      "execution_count": null,
      "outputs": []
    },
    {
      "cell_type": "code",
      "source": [
        "# Dataset Describe\n",
        "df.describe(include='all')"
      ],
      "metadata": {
        "id": "DnOaZdaE5Q5t"
      },
      "execution_count": null,
      "outputs": []
    },
    {
      "cell_type": "markdown",
      "source": [
        "### Variables Description"
      ],
      "metadata": {
        "id": "PBTbrJXOngz2"
      }
    },
    {
      "cell_type": "markdown",
      "source": [
        "*  **Hotel:** H1= Resort Hotel, H2= City Hotel\n",
        "*  **is_canceled :**If the booking was canceled(1) or not(0)\n",
        "*  **lead_time :** Number of days that elapsed between the entering date of the booking into the PMS(Property Management System) and the arrival date\n",
        "*  **arrival_date_year :** Year of arrival date.\n",
        "*  **arrival_date_month :** Month of arrival date.\n",
        "*  **arrival_date_week_number :** Week number for arrival date.\n",
        "*  **arrival_date_day_of_month:** Which day of the months guest is arriving.\n",
        "*  **stays_in_weekend_nights:** Number of weekend nights (Saturday or Sunday) the guest stayed or booked to stay at the hotel.\n",
        "*  **stays_in_week_nights:** Number of week nights (Monday to Friday) the guest stayed or booked to stay at the hotel.\n",
        "*  **adults :** Number of adults.\n",
        "*  **children :** Number of children.\n",
        "*  **babies :** Number of babies.\n",
        "*  **meal:** kind of meal opted for.\n",
        "*  **country :** Country code.\n",
        "*  **market_segment:** Through which channel hotels were booked.\n",
        "*  **distribution_channel :** How the customer accessed the stay- Corporate Booking/Direct/TA.TO\n",
        "*  **is_repeated_guest :** The values indicating if the booking name was from a repeated guest (1) or not (0).\n",
        "*  **previous_cancellations :** Was there a cancellation before.\n",
        "*  **previous_bookings_not_canceled :** Count of previous bookings not cancelled.\n",
        "*  **reserved_room_type :** Code of room type reserved.\n",
        "*  **assigned_room_type :** Code for the type of room assigned to the booking.\n",
        "*  **booking_changes :** Count of changes made to booking.\n",
        "*  **deposit_type :** Deposit type.\n",
        "*  **agent :** If the booking happens through agents or not.\n",
        "*  **company :** If the booking happens through companies, the company ID that made the booking or responsible for paying the booking.\n",
        "*  **days_in_waiting_list :** Number of days the booking was on the waiting list before the confirmation to the customer.\n",
        "*  **customer_type :** Booking type like Transient – Transient-Party – Contract – Group.\n",
        "*  **adr :** Average Daily Rates that described via way of means of dividing the sum of all accommodations transactions using entire numbers of staying nights.\n",
        "*  **required_car_parking_spaces :** How many parking areas are necessary for the customers.\n",
        "*  **total_of_special_requests :** Total unique requests from consumers.\n",
        "*  **reservation_status:** The last status of reservation, assuming one of three\n",
        "categories: Canceled – booking was cancelled by the customer; Check-Out;No-Show.\n",
        "*  **reservation_status_date:** The last status date.\n"
      ],
      "metadata": {
        "id": "aJV4KIxSnxay"
      }
    },
    {
      "cell_type": "markdown",
      "source": [
        "### Check Unique Values for each variable."
      ],
      "metadata": {
        "id": "u3PMJOP6ngxN"
      }
    },
    {
      "cell_type": "code",
      "source": [
        "# Check Unique Values for each variable.\n",
        "for item in list(df.columns):\n",
        "  print(f\"Column name {item}-No. of unique values: {df[item].nunique()}\")"
      ],
      "metadata": {
        "id": "zms12Yq5n-jE"
      },
      "execution_count": null,
      "outputs": []
    },
    {
      "cell_type": "markdown",
      "source": [
        "## 3. ***Data Wrangling***"
      ],
      "metadata": {
        "id": "dauF4eBmngu3"
      }
    },
    {
      "cell_type": "markdown",
      "source": [
        "### Data Wrangling Code"
      ],
      "metadata": {
        "id": "bKJF3rekwFvQ"
      }
    },
    {
      "cell_type": "code",
      "source": [
        "# Write your code to make your dataset analysis ready.\n",
        "# make a copy  of the dataset\n",
        "df_copy = df.copy()"
      ],
      "metadata": {
        "id": "wk-9a2fpoLcV"
      },
      "execution_count": null,
      "outputs": []
    },
    {
      "cell_type": "code",
      "source": [
        "df_copy.head()"
      ],
      "metadata": {
        "id": "wGU8YbvHq9qZ"
      },
      "execution_count": null,
      "outputs": []
    },
    {
      "cell_type": "code",
      "source": [
        "#we need to clean the dataset by deleting duplicate values from the dataset\n",
        "df_copy.drop_duplicates(inplace=True)"
      ],
      "metadata": {
        "id": "vfnVfGbUrCnj"
      },
      "execution_count": null,
      "outputs": []
    },
    {
      "cell_type": "code",
      "source": [
        "df_copy.shape"
      ],
      "metadata": {
        "id": "rpZEaBwurgXT"
      },
      "execution_count": null,
      "outputs": []
    },
    {
      "cell_type": "code",
      "source": [
        "#checking the duplicate is still there in the dataset or not\n",
        "len(df_copy[df_copy.duplicated()])"
      ],
      "metadata": {
        "id": "uDLVToAarlDK"
      },
      "execution_count": null,
      "outputs": []
    },
    {
      "cell_type": "code",
      "source": [
        "#checking the null value percentage\n",
        "null_percentage = 100*(df_copy.isna().sum()/df_copy.shape[0]).sort_values(ascending=False)\n",
        "print(null_percentage)"
      ],
      "metadata": {
        "id": "0fHqDyVZsHwC"
      },
      "execution_count": null,
      "outputs": []
    },
    {
      "cell_type": "code",
      "source": [
        "# we can see that in company column 93% data is missing ,so we should drop the column\n",
        "df_copy.drop(columns=['company'],inplace=True)"
      ],
      "metadata": {
        "id": "ZFu913MFszkV"
      },
      "execution_count": null,
      "outputs": []
    },
    {
      "cell_type": "code",
      "source": [
        "# we can see that others column have less percentage in missing value,so we just replace them\n",
        "df_copy.agent.fillna(0,inplace=True)\n",
        "df_copy.children.fillna(0,inplace=True)\n",
        "df_copy.country.fillna('Others',inplace=True)"
      ],
      "metadata": {
        "id": "Is1RML3KtRnj"
      },
      "execution_count": null,
      "outputs": []
    },
    {
      "cell_type": "code",
      "source": [
        "# now again checking for missing or null value count\n",
        "null_val_2 = df_copy.isnull().sum()\n",
        "print(null_val_2)"
      ],
      "metadata": {
        "id": "eSv6Hw4lt5eN"
      },
      "execution_count": null,
      "outputs": []
    },
    {
      "cell_type": "code",
      "source": [
        "df_copy.info()"
      ],
      "metadata": {
        "id": "NEiennUFuZb3"
      },
      "execution_count": null,
      "outputs": []
    },
    {
      "cell_type": "code",
      "source": [
        "#In the above we can see that Children, agent and adr column has datatype of float ,so we need to change it in integer\n",
        "df_copy['children'] = df_copy['children'].astype(int)\n",
        "df_copy['agent'] = df_copy['agent'].astype(int)\n",
        "df_copy['adr'] = df_copy['adr'].astype(int)"
      ],
      "metadata": {
        "id": "ZRDsfvTC4Sgu"
      },
      "execution_count": null,
      "outputs": []
    },
    {
      "cell_type": "code",
      "source": [
        "df_copy.info()"
      ],
      "metadata": {
        "id": "9Teuee7A5DcE"
      },
      "execution_count": null,
      "outputs": []
    },
    {
      "cell_type": "code",
      "source": [
        "# adults ,children, babies can't be 0 at the same time\n",
        "df_copy = df_copy[~((df_copy['adults']==0)&(df_copy['children']==0)&(df_copy['babies']==0))]\n"
      ],
      "metadata": {
        "id": "NstqoSjmx22F"
      },
      "execution_count": null,
      "outputs": []
    },
    {
      "cell_type": "code",
      "source": [
        "df_copy.shape"
      ],
      "metadata": {
        "id": "6fUNbrFu0TCa"
      },
      "execution_count": null,
      "outputs": []
    },
    {
      "cell_type": "code",
      "source": [
        "#creating new column for analysis\n",
        "df_copy['total_night_stayed']= df_copy['stays_in_week_nights']+df_copy['stays_in_weekend_nights']\n",
        "df_copy[['stays_in_week_nights','stays_in_weekend_nights','total_night_stayed']]"
      ],
      "metadata": {
        "id": "H6OptRXz0hxI"
      },
      "execution_count": null,
      "outputs": []
    },
    {
      "cell_type": "code",
      "source": [
        "#creation of separate dataset for resort and city hotel\n",
        "resort_df = df_copy[df_copy['hotel']=='Resort Hotel']\n",
        "city_df = df_copy[df_copy['hotel']=='City Hotel']"
      ],
      "metadata": {
        "id": "h6K8KoWe1QIC"
      },
      "execution_count": null,
      "outputs": []
    },
    {
      "cell_type": "code",
      "source": [
        "resort_df.head()"
      ],
      "metadata": {
        "id": "TghaU3di1qlw"
      },
      "execution_count": null,
      "outputs": []
    },
    {
      "cell_type": "code",
      "source": [
        "city_df.head()"
      ],
      "metadata": {
        "id": "YDx2cikM1xP4"
      },
      "execution_count": null,
      "outputs": []
    },
    {
      "cell_type": "markdown",
      "source": [
        "### What all manipulations have you done and insights you found?"
      ],
      "metadata": {
        "id": "MSa1f5Uengrz"
      }
    },
    {
      "cell_type": "markdown",
      "source": [
        "*  At first we make a copy of the original dataset to work\n",
        "*  Then we clean the copied dataset by deleting all the duplicate rows in the copied dataset.\n",
        "*  After that we handled all the null and missing values and deleted the company column because it's has 93% missing values.\n",
        "*  Then we changed the datatype of children,agent and adr columns.\n",
        "*  After that we added new column for better analysis\n",
        "*  In the last we separated the data frames for both city and resort hotel for better understanding.\n",
        "\n",
        "\n",
        "\n",
        "\n",
        "\n"
      ],
      "metadata": {
        "id": "LbyXE7I1olp8"
      }
    },
    {
      "cell_type": "markdown",
      "source": [
        "## ***4. Data Vizualization, Storytelling & Experimenting with charts : Understand the relationships between variables***"
      ],
      "metadata": {
        "id": "GF8Ens_Soomf"
      }
    },
    {
      "cell_type": "markdown",
      "source": [
        "# **Booking Trends Over Time:**"
      ],
      "metadata": {
        "id": "hVf77iPAbAXl"
      }
    },
    {
      "cell_type": "markdown",
      "source": [
        "# 1.1 How does the number of bookings vary month-by-month for city hotel type?"
      ],
      "metadata": {
        "id": "kCxKXkudbGEf"
      }
    },
    {
      "cell_type": "code",
      "source": [
        "\n",
        "# Convert arrival_date_month to datetime format\n",
        "city_df['arrival_date_month'] = pd.to_datetime(city_df['arrival_date_month'], format='%B')\n",
        "\n",
        "# Group data by hotel type and month, and count the number of bookings\n",
        "monthly_bookings_city = city_df.groupby(['hotel', city_df['arrival_date_month'].dt.month]).size()\n",
        "\n",
        "print(monthly_bookings_city)\n"
      ],
      "metadata": {
        "id": "7v_ESjsspbW7"
      },
      "execution_count": null,
      "outputs": []
    },
    {
      "cell_type": "code",
      "source": [
        "\n",
        "# Plotting\n",
        "monthly_bookings_city.plot(kind='bar',figsize=(10, 6))\n",
        "plt.title('Number of Bookings by Month for City Hotels')\n",
        "plt.xlabel('Month')\n",
        "plt.ylabel('Number of Bookings')\n",
        "plt.xticks(range(0, 12), labels=['Jan', 'Feb', 'Mar', 'Apr', 'May', 'Jun', 'Jul', 'Aug', 'Sep', 'Oct', 'Nov', 'Dec'])\n",
        "plt.show()"
      ],
      "metadata": {
        "id": "2z7CxzSXgi89"
      },
      "execution_count": null,
      "outputs": []
    },
    {
      "cell_type": "markdown",
      "source": [
        "# 1.2 How does the number of bookings vary month-by-month for resort hotel type?"
      ],
      "metadata": {
        "id": "55Gndn5-m_8h"
      }
    },
    {
      "cell_type": "code",
      "source": [
        "# Convert arrival_date_month to datetime format\n",
        "resort_df['arrival_date_month'] = pd.to_datetime(resort_df['arrival_date_month'], format='%B')\n",
        "\n",
        "# Group data by hotel type and month, and count the number of bookings\n",
        "monthly_bookings_resort = resort_df.groupby(['hotel', resort_df['arrival_date_month'].dt.month]).size()\n",
        "\n",
        "print(monthly_bookings_resort)"
      ],
      "metadata": {
        "id": "vG_jSBjDm_Pw"
      },
      "execution_count": null,
      "outputs": []
    },
    {
      "cell_type": "code",
      "source": [
        "# Plotting\n",
        "monthly_bookings_resort.plot(kind='bar',figsize=(10, 6))\n",
        "plt.title('Number of Bookings by Month for Resort Hotels')\n",
        "plt.xlabel('Month')\n",
        "plt.ylabel('Number of Bookings')\n",
        "plt.xticks(range(0, 12), labels=['Jan', 'Feb', 'Mar', 'Apr', 'May', 'Jun', 'Jul', 'Aug', 'Sep', 'Oct', 'Nov', 'Dec'])\n",
        "plt.show()"
      ],
      "metadata": {
        "id": "p84fRaNInkiq"
      },
      "execution_count": null,
      "outputs": []
    },
    {
      "cell_type": "markdown",
      "source": [
        "##### 1. Why did you pick the specific chart?"
      ],
      "metadata": {
        "id": "K5QZ13OEpz2H"
      }
    },
    {
      "cell_type": "markdown",
      "source": [
        "I choose a bar chart to visualize the number of bookings by month for city and resort hotels because it effectively presents categorical data (months) with numerical values (number of bookings) in a clear and concise manner.\n"
      ],
      "metadata": {
        "id": "XESiWehPqBRc"
      }
    },
    {
      "cell_type": "markdown",
      "source": [
        "##### 2. What is/are the insight(s) found from the chart?"
      ],
      "metadata": {
        "id": "lQ7QKXXCp7Bj"
      }
    },
    {
      "cell_type": "markdown",
      "source": [
        "1.Both city hotels and resort hotels experience fluctuations in booking volumes throughout the year. For example, there is a noticeable increase in bookings during the summer months (June, July, August) for both hotel types, indicating a peak season for tourism and travel.\n",
        "\n",
        "2.City hotels generally have higher booking volumes compared to resort hotels, especially during the peak summer months. This suggests that city hotels may attract a larger number of tourists or business travelers during certain times of the year.\n",
        "\n",
        "3.Both city hotels and resort hotels experience lower booking volumes during certain months, such as January and November. These months may represent off-peak periods for tourism or travel, which could be leveraged for targeted marketing campaigns or promotions to attract guests during slower periods."
      ],
      "metadata": {
        "id": "C_j1G7yiqdRP"
      }
    },
    {
      "cell_type": "markdown",
      "source": [
        "# 2.1 Can we visualize the distribution of bookings across different days of the month for city hotel?"
      ],
      "metadata": {
        "id": "vqEjnjH3rId0"
      }
    },
    {
      "cell_type": "code",
      "source": [
        "# Group data by arrival day of the month and count the number of bookings\n",
        "daily_bookings_city = city_df['arrival_date_day_of_month'].value_counts().sort_index()\n",
        "print(daily_bookings_city)\n"
      ],
      "metadata": {
        "id": "R4YgtaqtYklH"
      },
      "execution_count": null,
      "outputs": []
    },
    {
      "cell_type": "code",
      "source": [
        "# Plotting\n",
        "plt.figure(figsize=(14, 8))\n",
        "daily_bookings_city.plot(kind='bar', color='skyblue')\n",
        "plt.title('Distribution of Bookings Across Different Days of the Month for City Hotels')\n",
        "plt.xlabel('Day of the Month')\n",
        "plt.ylabel('Number of Bookings')\n",
        "plt.xticks(rotation=45)\n",
        "plt.grid(axis='y', linestyle='--')\n",
        "plt.show()"
      ],
      "metadata": {
        "id": "8kmFJ3Fsr9Pa"
      },
      "execution_count": null,
      "outputs": []
    },
    {
      "cell_type": "markdown",
      "source": [
        "# 2.2 Can we visualize the distribution of bookings across different days of the month for resort hotel?"
      ],
      "metadata": {
        "id": "Ee_9Mi4-wFb1"
      }
    },
    {
      "cell_type": "code",
      "source": [
        "# Group data by arrival day of the month and count the number of bookings\n",
        "daily_bookings_resort = resort_df['arrival_date_day_of_month'].value_counts().sort_index()\n",
        "print(daily_bookings_resort)"
      ],
      "metadata": {
        "id": "mWjZ5H3pwgEo"
      },
      "execution_count": null,
      "outputs": []
    },
    {
      "cell_type": "code",
      "source": [
        "# Plotting\n",
        "plt.figure(figsize=(14, 8))\n",
        "daily_bookings_resort.plot(kind='bar', color='skyblue')\n",
        "plt.title('Distribution of Bookings Across Different Days of the Month for Resort Hotels')\n",
        "plt.xlabel('Day of the Month')\n",
        "plt.ylabel('Number of Bookings')\n",
        "plt.xticks(rotation=45)\n",
        "plt.grid(axis='y', linestyle='--')\n",
        "plt.show()"
      ],
      "metadata": {
        "id": "iJq4_LrIxkgB"
      },
      "execution_count": null,
      "outputs": []
    },
    {
      "cell_type": "markdown",
      "source": [
        "##### 1. Why did you pick the specific chart?"
      ],
      "metadata": {
        "id": "t6dVpIINYklI"
      }
    },
    {
      "cell_type": "markdown",
      "source": [
        "A bar chart is an effective way to represent categorical data, such as the days of the month, along with their corresponding counts of bookings. Each bar in the chart represents a specific day of the month, and the height of the bar indicates the number of bookings on that day. This clear visual representation makes it easy for viewers to interpret the data.\n",
        "\n"
      ],
      "metadata": {
        "id": "5aaW0BYyYklI"
      }
    },
    {
      "cell_type": "markdown",
      "source": [
        "##### 2. What is/are the insight(s) found from the chart?"
      ],
      "metadata": {
        "id": "ijmpgYnKYklI"
      }
    },
    {
      "cell_type": "markdown",
      "source": [
        "1.City Hotel Bookings Distribution:\n",
        "\n",
        "The distribution of bookings across different days of the month for city hotels appears to be relatively consistent, with fluctuations in the number of bookings across various days.\n",
        "There is no significant outlier in the distribution, with the highest count of bookings being observed on the 2nd day of the month (1871 bookings) and the lowest count on the 31st day (981 bookings).\n",
        "Overall, the distribution indicates a relatively stable pattern of bookings throughout the month for city hotels, without any specific trend or anomaly.\n",
        "\n",
        "2.Resort Hotel Bookings Distribution:\n",
        "\n",
        "Similarly, the distribution of bookings across different days of the month for resort hotels also shows consistency, with fluctuations in the number of bookings across various days.\n",
        "The highest count of bookings is observed on the 30th day of the month (1213 bookings) for resort hotels, while the lowest count is observed on the 31st day (751 bookings).\n",
        "Like city hotels, the distribution indicates a relatively stable pattern of bookings throughout the month for resort hotels, without any specific trend or anomaly."
      ],
      "metadata": {
        "id": "PSx9atu2YklI"
      }
    },
    {
      "cell_type": "markdown",
      "source": [
        "# 3.1 What are the trends in booking lead time over the years for city hotel?"
      ],
      "metadata": {
        "id": "dNgGYcbt0Kxx"
      }
    },
    {
      "cell_type": "code",
      "source": [
        "# Convert arrival_date_year to datetime format\n",
        "city_df['arrival_date_year'] = pd.to_datetime(city_df['arrival_date_year'], format='%Y')\n",
        "\n",
        "# Calculate average booking lead time for each year\n",
        "avg_lead_time_city = city_df.groupby(city_df['arrival_date_year'].dt.year)['lead_time'].mean()\n",
        "\n",
        "print(avg_lead_time_city)"
      ],
      "metadata": {
        "id": "t6GMdE67YoAp"
      },
      "execution_count": null,
      "outputs": []
    },
    {
      "cell_type": "code",
      "source": [
        "# Plotting the trends\n",
        "plt.figure(figsize=(10, 6))\n",
        "avg_lead_time_city.plot(kind='line', marker='o', color='red')\n",
        "plt.title('Trends in Booking Lead Time Over the Years for City Hotels')\n",
        "plt.xlabel('Year')\n",
        "plt.ylabel('Average Booking Lead Time (Days)')\n",
        "plt.grid(True)\n",
        "plt.show()"
      ],
      "metadata": {
        "id": "pZG8U5KP1As0"
      },
      "execution_count": null,
      "outputs": []
    },
    {
      "cell_type": "markdown",
      "source": [
        "# 3.2 What are the trends in booking lead time over the years for resort hotel?"
      ],
      "metadata": {
        "id": "xR8LDDfD0YCQ"
      }
    },
    {
      "cell_type": "code",
      "source": [
        "# Convert arrival_date_year to datetime format\n",
        "resort_df['arrival_date_year'] = pd.to_datetime(resort_df['arrival_date_year'], format='%Y')\n",
        "\n",
        "# Calculate average booking lead time for each year\n",
        "avg_lead_time_resort = resort_df.groupby(resort_df['arrival_date_year'].dt.year)['lead_time'].mean()\n",
        "\n",
        "print(avg_lead_time_resort)"
      ],
      "metadata": {
        "id": "QprfBnyO0jeH"
      },
      "execution_count": null,
      "outputs": []
    },
    {
      "cell_type": "code",
      "source": [
        "# Plotting the trends\n",
        "plt.figure(figsize=(10, 6))\n",
        "avg_lead_time_resort.plot(kind='line', marker='o', color='red')\n",
        "plt.title('Trends in Booking Lead Time Over the Years for Resort Hotels')\n",
        "plt.xlabel('Year')\n",
        "plt.ylabel('Average Booking Lead Time (Days)')\n",
        "plt.grid(True)\n",
        "plt.show()"
      ],
      "metadata": {
        "id": "HjLfMupH3KWB"
      },
      "execution_count": null,
      "outputs": []
    },
    {
      "cell_type": "markdown",
      "source": [
        "##### 1. Why did you pick the specific chart?"
      ],
      "metadata": {
        "id": "fge-S5ZAYoAp"
      }
    },
    {
      "cell_type": "markdown",
      "source": [
        "A line plot is ideal for visualizing trends over time. It effectively illustrates how the average booking lead time changes from year to year, allowing viewers to identify any increasing or decreasing patterns."
      ],
      "metadata": {
        "id": "5dBItgRVYoAp"
      }
    },
    {
      "cell_type": "markdown",
      "source": [
        "##### 2. What is/are the insight(s) found from the chart?"
      ],
      "metadata": {
        "id": "85gYPyotYoAp"
      }
    },
    {
      "cell_type": "markdown",
      "source": [
        "1.In both city and resort hotels, there is a general increasing trend in the average booking lead time over the years. The average lead time has progressively increased from 2015 to 2017 for both types of hotels.\n",
        "\n",
        "2.The average booking lead time is consistently higher for resort hotels compared to city hotels across all years. This suggests that guests tend to book their stays further in advance for resort accommodations compared to city accommodations.\n",
        "\n",
        "3.While there is an increasing trend in average lead time, the growth rate appears to be relatively steady over the years for both city and resort hotels. This indicates a consistent pattern of guests booking their stays further in advance over time, rather than sudden spikes or fluctuations."
      ],
      "metadata": {
        "id": "4jstXR6OYoAp"
      }
    },
    {
      "cell_type": "markdown",
      "source": [
        "# 4. What is the total number of bookings for city and resort hotels over the entire dataset period, and how does it compare between the two hotel types?"
      ],
      "metadata": {
        "id": "dkWT0Iq08X6u"
      }
    },
    {
      "cell_type": "code",
      "source": [
        "# Calculate total number of bookings for city and resort hotels\n",
        "total_bookings_city = df_copy[df_copy['hotel'] == 'City Hotel'].shape[0]\n",
        "total_bookings_resort = df_copy[df_copy['hotel'] == 'Resort Hotel'].shape[0]\n",
        "print(total_bookings_city )\n",
        "print(total_bookings_resort )\n",
        "\n",
        "# Plotting\n",
        "plt.figure(figsize=(8, 6))\n",
        "plt.bar(['City Hotel', 'Resort Hotel'], [total_bookings_city, total_bookings_resort], color=['blue', 'green'])\n",
        "plt.title('Total Number of Bookings for City and Resort Hotels')\n",
        "plt.xlabel('Hotel Type')\n",
        "plt.ylabel('Total Number of Bookings')\n",
        "plt.grid(axis='y', linestyle='--', alpha=0.7)\n",
        "plt.show()"
      ],
      "metadata": {
        "id": "irlUoxc8YrdO"
      },
      "execution_count": null,
      "outputs": []
    },
    {
      "cell_type": "markdown",
      "source": [
        "##### 1. Why did you pick the specific chart?"
      ],
      "metadata": {
        "id": "iky9q4vBYrdO"
      }
    },
    {
      "cell_type": "markdown",
      "source": [
        "Bar plots are well-suited for comparing categorical data, such as different hotel types. In this case, we are comparing the total number of bookings between city and resort hotels, which are categorical variables."
      ],
      "metadata": {
        "id": "aJRCwT6DYrdO"
      }
    },
    {
      "cell_type": "markdown",
      "source": [
        "##### 2. What is/are the insight(s) found from the chart?"
      ],
      "metadata": {
        "id": "F6T5p64dYrdO"
      }
    },
    {
      "cell_type": "markdown",
      "source": [
        "1.The insight from the chart is that city hotels have a higher total number of bookings compared to resort hotels. In this specific dataset, city hotels have 53,274 bookings, while resort hotels have 33,956 bookings. This indicates that city hotels are more popular or attract more guests compared to resort hotels.\n",
        "\n",
        "2.The higher booking volume for city hotels may suggest that they cater to a larger or different market segment compared to resort hotels. City hotels may attract business travelers, tourists, or individuals looking for urban accommodations, while resort hotels may cater to vacationers seeking leisure or relaxation in resort destinations.\n"
      ],
      "metadata": {
        "id": "Xx8WAJvtYrdO"
      }
    },
    {
      "cell_type": "markdown",
      "source": [
        "# Will the gained insights help creating a positive business impact for Booking Trends Over Time?\n",
        "Are there any insights that lead to negative growth? Justify with specific reason."
      ],
      "metadata": {
        "id": "y-Ehk30pYrdP"
      }
    },
    {
      "cell_type": "markdown",
      "source": [
        "1.Monthly Bookings by Hotel Type:\n",
        "\n",
        "Understanding how the number of bookings varies month-by-month for each hotel type can help hotel managers anticipate demand fluctuations throughout the year.\n",
        "\n",
        "2.Distribution of Bookings Across Different Days of the Week:\n",
        "\n",
        "Visualizing the distribution of bookings across different days of the week enables hotel managers to identify booking patterns and trends related to arrival and departure days.\n",
        "\n",
        "3.Trends in Booking Lead Time Over the Years:\n",
        "\n",
        "Analyzing trends in booking lead time provides valuable insights into changing guest behavior and booking preferences over time.\n",
        "\n",
        "4.Comparing total bookings in City and Resort Hotels:\n",
        "\n",
        "Knowing the total number of bookings for each hotel type provides hotel managers with valuable information about the demand and popularity of their establishments. Understanding the comparative performance between city and resort hotels allows managers to make strategic decisions to optimize operations and revenue generation."
      ],
      "metadata": {
        "id": "jLNxxz7MYrdP"
      }
    },
    {
      "cell_type": "markdown",
      "source": [
        "# **Guest Demographics :**"
      ],
      "metadata": {
        "id": "p4KyxzlEwQib"
      }
    },
    {
      "cell_type": "markdown",
      "source": [
        "#1. Can we visualize the geographical distribution of guests using country codes?"
      ],
      "metadata": {
        "id": "gjkpfWZ80HBO"
      }
    },
    {
      "cell_type": "code",
      "source": [
        "# Group data by country code and count the number of guests from each country\n",
        "guests_by_country = df_copy['country'].value_counts().reset_index()\n",
        "guests_by_country.columns = ['Country', 'Number of Guests']\n",
        "\n",
        "# Sort the DataFrame in descending order based on the number of guests\n",
        "guests_by_country_sorted = guests_by_country.sort_values(by='Number of Guests', ascending=False)\n",
        "\n",
        "# Print the sorted DataFrame\n",
        "print(guests_by_country_sorted)\n"
      ],
      "metadata": {
        "id": "6_5SSOcCz-JH"
      },
      "execution_count": null,
      "outputs": []
    },
    {
      "cell_type": "code",
      "source": [
        "#Top 10 Country wise Guests count\n",
        "x=df_copy.country.value_counts()\n",
        "z=sns.countplot(x=df_copy[df_copy['is_canceled'] == 0]['country'], data=df_copy,order=pd.value_counts(df_copy['country']).iloc[:10].index,palette= 'colorblind')\n",
        "plt.title('Top 10 Countries of Origin of the Guests')\n",
        "plt.xlabel('Country')\n",
        "plt.ylabel('Reservation Count')"
      ],
      "metadata": {
        "id": "UQdvaKfVREhg"
      },
      "execution_count": null,
      "outputs": []
    },
    {
      "cell_type": "code",
      "source": [
        "# Plotting\n",
        "fig = px.choropleth(guests_by_country, locations='Country', locationmode='ISO-3', color='Number of Guests',\n",
        "                    hover_name='Country', color_continuous_scale='Viridis',\n",
        "                    title='Geographical Distribution of Guests by Country')\n",
        "fig.show()"
      ],
      "metadata": {
        "id": "fUG2-vBp2cGs"
      },
      "execution_count": null,
      "outputs": []
    },
    {
      "cell_type": "markdown",
      "source": [
        "##### 1. Why did you pick the specific chart?"
      ],
      "metadata": {
        "id": "QHF8YVU7Yuh3"
      }
    },
    {
      "cell_type": "markdown",
      "source": [
        "A countplot showing the top 10 countries of origin of guests, was chosen because it effectively visualizes the distribution of guests across different countries. By displaying the count of reservations for each country in a bar chart format, it allows for easy comparison of the number of guests from each country.\n",
        "\n",
        "A choropleth map effectively represents geographical data, allowing viewers to easily understand the distribution of guests across different countries. This allows for quick identification of countries with the highest and lowest numbers of guests."
      ],
      "metadata": {
        "id": "dcxuIMRPYuh3"
      }
    },
    {
      "cell_type": "markdown",
      "source": [
        "##### 2. What is/are the insight(s) found from the chart?"
      ],
      "metadata": {
        "id": "GwzvFGzlYuh3"
      }
    },
    {
      "cell_type": "markdown",
      "source": [
        "1.Top Guest-Originating Countries: The chart reveals the countries from which the hotel receives the highest number of guests. In this case, Portugal (PRT) has the highest number of guests, followed by the United Kingdom (GBR), France (FRA), Spain (ESP), and Germany (DEU).\n",
        "\n",
        "2.Global Representation: The chart illustrates the global representation of guests, showing that guests come from a wide range of countries. This indicates the hotel's international appeal and its ability to attract guests from diverse regions.\n",
        "\n",
        "3.Varied Guest Demographics: The distribution of guests by country highlights the diverse demographic backgrounds of the hotel's guests. Understanding the geographical distribution of guests can help the hotel tailor its services, amenities, and marketing strategies to cater to the needs and preferences of guests from different countries."
      ],
      "metadata": {
        "id": "uyqkiB8YYuh3"
      }
    },
    {
      "cell_type": "markdown",
      "source": [
        "# 2.How does the distribution of guest types vary between city and resort hotels?"
      ],
      "metadata": {
        "id": "FDGGs-yr5VoA"
      }
    },
    {
      "cell_type": "code",
      "source": [
        "# Group data by hotel type and guest type, and count the number of guests for each combination\n",
        "guests_by_hotel_and_guest_type = df_copy.groupby(['hotel', 'customer_type']).size().unstack()\n",
        "\n",
        "print(guests_by_hotel_and_guest_type)"
      ],
      "metadata": {
        "id": "kuRf4wtuphqN"
      },
      "execution_count": null,
      "outputs": []
    },
    {
      "cell_type": "code",
      "source": [
        "# Plotting\n",
        "guests_by_hotel_and_guest_type.plot(kind='bar', figsize=(12, 8))\n",
        "plt.title('Distribution of Guest Types between City and Resort Hotels')\n",
        "plt.xlabel('Hotel Type')\n",
        "plt.ylabel('Number of Guests')\n",
        "plt.xticks(rotation=0)\n",
        "plt.legend(title='Guest Type')\n",
        "plt.grid(axis='y', linestyle='--', alpha=0.7)\n",
        "plt.tight_layout()\n",
        "plt.show()"
      ],
      "metadata": {
        "id": "MhLmLAbi50TP"
      },
      "execution_count": null,
      "outputs": []
    },
    {
      "cell_type": "markdown",
      "source": [
        "##### 1. Why did you pick the specific chart?"
      ],
      "metadata": {
        "id": "bbFf2-_FphqN"
      }
    },
    {
      "cell_type": "markdown",
      "source": [
        "The grouped bar chart allows for a direct visual comparison of guest types between city and resort hotels. Each bar represents a different hotel type, and within each bar, there are sub-bars representing the number of guests belonging to each guest type category.The bar chart provides a clear and intuitive representation of the data, making it easy for viewers to understand the distribution of guest types for each hotel type at a glance."
      ],
      "metadata": {
        "id": "loh7H2nzphqN"
      }
    },
    {
      "cell_type": "markdown",
      "source": [
        "##### 2. What is/are the insight(s) found from the chart?"
      ],
      "metadata": {
        "id": "_ouA3fa0phqN"
      }
    },
    {
      "cell_type": "markdown",
      "source": [
        "1.Transient Guests Dominance: In both city and resort hotels, the majority of guests belong to the \"Transient\" category. This suggests that transient guests, who typically make individual bookings for short stays, form the largest segment of guests for both types of hotels.\n",
        "\n",
        "2.Differentiation in Group Guests: While the number of group guests is relatively low compared to transient guests in both city and resort hotels, there is a slight variation between the two. City hotels have a slightly higher number of group guests compared to resort hotels. This could be due to city hotels attracting more business conferences, events, or group tours.\n",
        "\n",
        "3.Contract Guests Proportion: The number of contract guests is higher in resort hotels compared to city hotels. This indicates that resort hotels may have more contractual arrangements with companies, travel agencies, or other organizations for group bookings or long-term stays.\n",
        "\n",
        "4.Transient-Party Guests Distribution: The distribution of transient-party guests, who are typically leisure travelers booking together but staying independently, is higher in city hotels compared to resort hotels. This suggests that city hotels may be more popular among groups of leisure travelers who prefer independent stays but book together for convenience."
      ],
      "metadata": {
        "id": "VECbqPI7phqN"
      }
    },
    {
      "cell_type": "markdown",
      "source": [
        "# Will the gained insights help creating a positive business impact for Guest Demographics?\n",
        "Are there any insights that lead to negative growth? Justify with specific reason."
      ],
      "metadata": {
        "id": "Seke61FWphqN"
      }
    },
    {
      "cell_type": "markdown",
      "source": [
        "1.Targeted Marketing Strategies: Understanding the top guest-originating countries and the predominant guest types allows hotels to tailor their marketing strategies to effectively reach and attract their target audience. This may involve targeted advertising campaigns, promotions, and partnerships with travel agencies or online booking platforms that cater to the specific preferences and demographics of these guests.\n",
        "\n",
        "2.Enhanced Guest Experience: By recognizing the varied guest demographics and preferences, hotels can personalize their services, amenities, and experiences to better meet the needs and expectations of their diverse guest base. This may involve offering multilingual services, culturally relevant dining options, and customized experiences tailored to different guest segments.\n",
        "\n",
        "3.Revenue Optimization: Identifying the most lucrative guest segments, such as transient guests or group bookings, allows hotels to optimize their revenue streams by strategically pricing their rooms, offering package deals, and maximizing occupancy rates during peak periods. Additionally, establishing partnerships with corporate clients or travel agencies for contract bookings can provide a steady stream of revenue and long-term business relationships."
      ],
      "metadata": {
        "id": "78QxfweXHmtI"
      }
    },
    {
      "cell_type": "markdown",
      "source": [
        "# **Booking Behavior Analysis:**"
      ],
      "metadata": {
        "id": "ia4ZH8JWJxwi"
      }
    },
    {
      "cell_type": "markdown",
      "source": [
        "# 1.1 How long do people stay at the City hotels?"
      ],
      "metadata": {
        "id": "1Jb6uQA6s5Yi"
      }
    },
    {
      "cell_type": "code",
      "source": [
        "city_df['total_night_stayed'].value_counts()"
      ],
      "metadata": {
        "id": "AE_6MSDAqd2A"
      },
      "execution_count": null,
      "outputs": []
    },
    {
      "cell_type": "code",
      "source": [
        "#plotting\n",
        "plt.figure(figsize=(24,5))\n",
        "sns.countplot(x='total_night_stayed', data=city_df)\n",
        "plt.title('Distribution Of Stay Duration For City Hotels', fontsize=20)\n",
        "plt.show()"
      ],
      "metadata": {
        "id": "83cMUabEuyEG"
      },
      "execution_count": null,
      "outputs": []
    },
    {
      "cell_type": "markdown",
      "source": [
        "# 1.2 How long do people stay at the Resort hotels?"
      ],
      "metadata": {
        "id": "wRD_yP0kvUzq"
      }
    },
    {
      "cell_type": "code",
      "source": [
        "resort_df['total_night_stayed'].value_counts()"
      ],
      "metadata": {
        "id": "D46fLJsNvUOK"
      },
      "execution_count": null,
      "outputs": []
    },
    {
      "cell_type": "code",
      "source": [
        "#plotting\n",
        "plt.figure(figsize=(24,5))\n",
        "sns.countplot(x='total_night_stayed', data=resort_df)\n",
        "plt.title('Distribution Of Stay Duration For Resort Hotels', fontsize=20)\n",
        "plt.show()"
      ],
      "metadata": {
        "id": "tNrYEj3Fw7db"
      },
      "execution_count": null,
      "outputs": []
    },
    {
      "cell_type": "markdown",
      "source": [
        "##### 1. Why did you pick the specific chart?"
      ],
      "metadata": {
        "id": "t27r6nlMphqO"
      }
    },
    {
      "cell_type": "markdown",
      "source": [
        "Countplots are suitable for visualizing the distribution of categorical data, such as the duration of stay in this case. By plotting the count of each category (total night stayed), we can observe the frequency of different durations of stay for both city and resort hotels."
      ],
      "metadata": {
        "id": "iv6ro40sphqO"
      }
    },
    {
      "cell_type": "markdown",
      "source": [
        "##### 2. What is/are the insight(s) found from the chart?"
      ],
      "metadata": {
        "id": "r2jJGEOYphqO"
      }
    },
    {
      "cell_type": "markdown",
      "source": [
        "1.Most Common Stay Durations: In both city and resort hotels, the most common stay durations are 1 night, 2 nights, and 3 nights, as indicated by the highest counts in the respective datasets.\n",
        "\n",
        "2.Short vs. Long Stays: City hotels tend to have a higher proportion of shorter stays, with a significant number of guests staying for 1 to 4 nights. In contrast, resort hotels have a more diverse distribution of stay durations, with a notable number of guests staying for 7 nights, likely representing weekly vacation stays.\n",
        "\n",
        "3.Weeklong Stays: Resort hotels exhibit a prominent peak in the distribution at 7 nights, indicating that many guests opt for weeklong stays, which is common for leisure-oriented accommodations like resorts.\n",
        "\n",
        "4.Longer Stays: While shorter stays dominate in both types of hotels, there is also a presence of longer stays, particularly in resort hotels. This suggests that some guests choose to extend their vacations or opt for longer-term stays in resort settings."
      ],
      "metadata": {
        "id": "Po6ZPi4hphqO"
      }
    },
    {
      "cell_type": "markdown",
      "source": [
        "# 2.1 What is the most common Distribution channel for booking City hotels?"
      ],
      "metadata": {
        "id": "iG3planf22MS"
      }
    },
    {
      "cell_type": "code",
      "source": [
        "# Count the frequency of each distribution channel\n",
        "channel_counts_city = city_df['distribution_channel'].value_counts()\n",
        "\n",
        "print(channel_counts_city)"
      ],
      "metadata": {
        "id": "Lm-EKu7w19xl"
      },
      "execution_count": null,
      "outputs": []
    },
    {
      "cell_type": "code",
      "source": [
        "# Plotting the horizontal bar chart\n",
        "plt.figure(figsize=(10, 6))\n",
        "channel_counts_city.sort_values().plot(kind='barh', color='yellow')\n",
        "plt.title('Distribution of Booking Channels for City Hotels')\n",
        "plt.xlabel('Number of Bookings')\n",
        "plt.ylabel('Distribution Channel')\n",
        "plt.grid(axis='x', linestyle='--', alpha=0.7)\n",
        "plt.tight_layout()\n",
        "plt.show()"
      ],
      "metadata": {
        "id": "musrkjtQ9LmT"
      },
      "execution_count": null,
      "outputs": []
    },
    {
      "cell_type": "markdown",
      "source": [
        "# 2.2 What is the most common Distribution channel for booking Resort hotels?"
      ],
      "metadata": {
        "id": "Xmu6buxcAns6"
      }
    },
    {
      "cell_type": "code",
      "source": [
        "# Count the frequency of each distribution channel\n",
        "channel_counts_resort= resort_df['distribution_channel'].value_counts()\n",
        "\n",
        "print(channel_counts_resort)"
      ],
      "metadata": {
        "id": "jy458BrsA20q"
      },
      "execution_count": null,
      "outputs": []
    },
    {
      "cell_type": "code",
      "source": [
        "# Plotting the horizontal bar chart\n",
        "plt.figure(figsize=(10, 6))\n",
        "channel_counts_resort.sort_values().plot(kind='barh', color='yellow')\n",
        "plt.title('Distribution of Booking Channels for Resort Hotels')\n",
        "plt.xlabel('Number of Bookings')\n",
        "plt.ylabel('Distribution Channel')\n",
        "plt.grid(axis='x', linestyle='--', alpha=0.7)\n",
        "plt.tight_layout()\n",
        "plt.show()"
      ],
      "metadata": {
        "id": "5Hbue7l_BE2R"
      },
      "execution_count": null,
      "outputs": []
    },
    {
      "cell_type": "markdown",
      "source": [
        "##### 1. Why did you pick the specific chart?"
      ],
      "metadata": {
        "id": "jj7wYXLtphqO"
      }
    },
    {
      "cell_type": "markdown",
      "source": [
        "Horizontal bar charts allow for easy comparison of values between categories. In this case, it enables a side-by-side comparison of the distribution of booking channels for city hotels and resort hotels.The horizontal orientation of the bars makes it easy to read the labels for each booking channel, especially when there are many categories."
      ],
      "metadata": {
        "id": "Ob8u6rCTphqO"
      }
    },
    {
      "cell_type": "markdown",
      "source": [
        "##### 2. What is/are the insight(s) found from the chart?"
      ],
      "metadata": {
        "id": "eZrbJ2SmphqO"
      }
    },
    {
      "cell_type": "markdown",
      "source": [
        "1.TA/TO Dominance: In both city hotels and resort hotels, the most common distribution channel is Travel Agents/Tour Operators (TA/TO). This suggests that a significant portion of bookings in both types of hotels are made through third-party travel agencies or tour operators.\n",
        "\n",
        "2.Direct Bookings: Direct bookings, where guests book directly with the hotel, are also prevalent in both city and resort hotels, although they are less common compared to TA/TO bookings.\n",
        "\n",
        "3.Corporate Bookings: Corporate bookings, which are likely made by companies for business purposes, constitute a notable portion of the distribution channels for both city hotels and resort hotels.\n",
        "\n",
        "4.Undefined Category: There are a small number of bookings categorized as \"Undefined\" in both city hotels and resort hotels. This category may require further investigation to determine the reasons behind it and whether it represents a data anomaly or a specific type of booking channel."
      ],
      "metadata": {
        "id": "mZtgC_hjphqO"
      }
    },
    {
      "cell_type": "markdown",
      "source": [
        "# 3.1 What is the distribution of Market Segment based on Deposit Type for City hotels?"
      ],
      "metadata": {
        "id": "LazBnNXRGL7k"
      }
    },
    {
      "cell_type": "code",
      "source": [
        "# Create a pivot table to aggregate the counts of market segments based on deposit types\n",
        "pivot_table_city = city_df.pivot_table(index='deposit_type', columns='market_segment', aggfunc='size', fill_value=0)\n",
        "\n",
        "print(pivot_table_city)"
      ],
      "metadata": {
        "id": "B2aS4O1ophqO"
      },
      "execution_count": null,
      "outputs": []
    },
    {
      "cell_type": "code",
      "source": [
        "# Plotting the stacked bar chart\n",
        "pivot_table_city.plot(kind='bar', stacked=True, figsize=(10, 6))\n",
        "plt.title('Distribution of Market Segments Based on Deposit Type for City Hotel')\n",
        "plt.xlabel('Deposit Type')\n",
        "plt.ylabel('Number of Bookings')\n",
        "plt.xticks(rotation=0)\n",
        "plt.legend(title='Market Segment')\n",
        "plt.grid(axis='y', linestyle='--', alpha=0.7)\n",
        "plt.tight_layout()\n",
        "plt.show()"
      ],
      "metadata": {
        "id": "gAxqcPJtG7xW"
      },
      "execution_count": null,
      "outputs": []
    },
    {
      "cell_type": "markdown",
      "source": [
        "# 3.2 What is the distribution of Market Segment based on Deposit Type for Resort hotels?"
      ],
      "metadata": {
        "id": "sP4laV7OGkIc"
      }
    },
    {
      "cell_type": "code",
      "source": [
        "# Create a pivot table to aggregate the counts of market segments based on deposit types\n",
        "pivot_table_resort = resort_df.pivot_table(index='deposit_type', columns='market_segment', aggfunc='size', fill_value=0)\n",
        "\n",
        "print(pivot_table_resort)"
      ],
      "metadata": {
        "id": "IH6Kuz-PGxmP"
      },
      "execution_count": null,
      "outputs": []
    },
    {
      "cell_type": "code",
      "source": [
        "# Plotting the stacked bar chart\n",
        "pivot_table_resort.plot(kind='bar', stacked=True, figsize=(10, 6))\n",
        "plt.title('Distribution of Market Segments Based on Deposit Type for Resort Hotel')\n",
        "plt.xlabel('Deposit Type')\n",
        "plt.ylabel('Number of Bookings')\n",
        "plt.xticks(rotation=0)\n",
        "plt.legend(title='Market Segment')\n",
        "plt.grid(axis='y', linestyle='--', alpha=0.7)\n",
        "plt.tight_layout()\n",
        "plt.show()"
      ],
      "metadata": {
        "id": "DKHw-cQyInsS"
      },
      "execution_count": null,
      "outputs": []
    },
    {
      "cell_type": "markdown",
      "source": [
        "##### 1. Why did you pick the specific chart?"
      ],
      "metadata": {
        "id": "gCFgpxoyphqP"
      }
    },
    {
      "cell_type": "markdown",
      "source": [
        "\n",
        "I choose stacked bar charts to visualize the distribution of market segments based on deposit type for both city and resort hotels because they effectively display the relationship between multiple categorical variables.\n",
        "We can easily compare the contribution of each market segment to the total number of bookings within each deposit type category.\n"
      ],
      "metadata": {
        "id": "TVxDimi2phqP"
      }
    },
    {
      "cell_type": "markdown",
      "source": [
        "##### 2. What is/are the insight(s) found from the chart?"
      ],
      "metadata": {
        "id": "OVtJsKN_phqQ"
      }
    },
    {
      "cell_type": "markdown",
      "source": [
        "1.City Hotel:\n",
        "The majority of bookings with \"No Deposit\" come from the Online TA market segment, followed by Offline TA/TO and Direct bookings.\n",
        "Non Refund and Refundable deposit types have minimal representation in most market segments, except for a few bookings in the Online TA and Offline TA/TO segments.\n",
        "\n",
        "2.Resort Hotel:\n",
        "Similar to city hotels, the Online TA market segment dominates bookings with \"No Deposit\", followed by Direct bookings and Offline TA/TO.\n",
        "Non Refund and Refundable deposit types have very limited representation across all market segments."
      ],
      "metadata": {
        "id": "ngGi97qjphqQ"
      }
    },
    {
      "cell_type": "markdown",
      "source": [
        "# 4.1 Which channel is mostly used for the early booking of City hotels?"
      ],
      "metadata": {
        "id": "E0qgXsOMLRsh"
      }
    },
    {
      "cell_type": "code",
      "source": [
        "# Filter the data for early bookings (e.g., lead time less than 30 days)\n",
        "early_bookings_city = city_df[city_df['lead_time'] < 30]\n",
        "\n",
        "# Group the data by distribution channel and calculate the average lead time\n",
        "avg_lead_time_city = early_bookings_city.groupby('distribution_channel')['lead_time'].mean().sort_values()\n",
        "print(avg_lead_time_city)"
      ],
      "metadata": {
        "id": "GM7a4YP4phqQ"
      },
      "execution_count": null,
      "outputs": []
    },
    {
      "cell_type": "code",
      "source": [
        "# Plotting\n",
        "plt.figure(figsize=(12, 6))\n",
        "sns.barplot(x=avg_lead_time_city.index, y=avg_lead_time_city.values, palette='viridis')\n",
        "plt.title('Average Lead Time for Early Bookings (City Hotel)')\n",
        "plt.xlabel('Distribution Channel')\n",
        "plt.ylabel('Average Lead Time (Days)')\n",
        "plt.xticks(rotation=45)\n",
        "plt.grid(axis='y', linestyle='--', alpha=0.7)\n",
        "plt.tight_layout()\n",
        "plt.show()"
      ],
      "metadata": {
        "id": "wHh9MJ9_MgfH"
      },
      "execution_count": null,
      "outputs": []
    },
    {
      "cell_type": "markdown",
      "source": [
        "# 4.2 Which channel is mostly used for the early booking of Resort hotels?"
      ],
      "metadata": {
        "id": "U8B9n-31LhE4"
      }
    },
    {
      "cell_type": "code",
      "source": [
        "# Filter the data for early bookings (e.g., lead time less than 30 days)\n",
        "early_bookings_resort = resort_df[resort_df['lead_time'] < 30]\n",
        "\n",
        "# Group the data by distribution channel and calculate the average lead time\n",
        "avg_lead_time_resort = early_bookings_resort.groupby('distribution_channel')['lead_time'].mean().sort_values()\n",
        "print(avg_lead_time_resort)"
      ],
      "metadata": {
        "id": "TFYNJN6DLn2E"
      },
      "execution_count": null,
      "outputs": []
    },
    {
      "cell_type": "code",
      "source": [
        "plt.figure(figsize=(12, 6))\n",
        "sns.barplot(x=avg_lead_time_resort.index, y=avg_lead_time_resort.values, palette='viridis')\n",
        "plt.title('Average Lead Time for Early Bookings (Resort Hotel)')\n",
        "plt.xlabel('Distribution Channel')\n",
        "plt.ylabel('Average Lead Time (Days)')\n",
        "plt.xticks(rotation=45)\n",
        "plt.grid(axis='y', linestyle='--', alpha=0.7)\n",
        "plt.tight_layout()\n",
        "plt.show()"
      ],
      "metadata": {
        "id": "9b0cQ0k_MnFp"
      },
      "execution_count": null,
      "outputs": []
    },
    {
      "cell_type": "markdown",
      "source": [
        "##### 1. Why did you pick the specific chart?"
      ],
      "metadata": {
        "id": "1M8mcRywphqQ"
      }
    },
    {
      "cell_type": "markdown",
      "source": [
        "I choose to use bar plots because they are effective for comparing the average lead time across different distribution channels. Bar plots allow us to easily visualize and compare the average lead time values for each distribution channel, making it clear which channel is mostly used for early booking. Additionally, using seaborn's barplot function provides automatic aggregation of data and error bars, if needed, making the visualization process more efficient."
      ],
      "metadata": {
        "id": "8agQvks0phqQ"
      }
    },
    {
      "cell_type": "markdown",
      "source": [
        "##### 2. What is/are the insight(s) found from the chart?"
      ],
      "metadata": {
        "id": "tgIPom80phqQ"
      }
    },
    {
      "cell_type": "markdown",
      "source": [
        "1.City hotel:\n",
        "\n",
        "The distribution channel with the shortest average lead time for early bookings (lead time less than 30 days) is Undefined, with an average lead time of 3 days.\n",
        "Direct bookings have the next shortest average lead time at approximately 6.29 days.\n",
        "\n",
        "Corporate bookings follow with an average lead time of about 6.69 days.\n",
        "\n",
        "GDS (Global Distribution System) bookings have a longer average lead time of approximately 8.71 days.\n",
        "\n",
        "Finally, bookings made through TA/TO (Travel Agents/Tour Operators) have the longest average lead time among the observed distribution channels, with an average of about 11.56 days.\n",
        "\n",
        "2.Resort hotel:\n",
        "\n",
        "Direct bookings have the shortest average lead time among the observed distribution channels, with an average lead time of approximately 5.62 days.\n",
        "\n",
        "Corporate bookings follow with an average lead time of about 6.32 days.\n",
        "\n",
        "TA/TO (Travel Agents/Tour Operators) bookings have the longest average lead time among the observed distribution channels for the resort hotel, with an average of approximately 9.90 days.\n"
      ],
      "metadata": {
        "id": "Qp13pnNzphqQ"
      }
    },
    {
      "cell_type": "markdown",
      "source": [
        "# Will the gained insights help creating a positive business impact for Booking Behavior Analysis?\n",
        "Are there any insights that lead to negative growth? Justify with specific reason."
      ],
      "metadata": {
        "id": "JMzcOPDDphqR"
      }
    },
    {
      "cell_type": "markdown",
      "source": [
        "1.Understanding Stay Durations: Knowing the most common lengths of stay allows hotels to optimize room inventory, staffing levels, and service offerings accordingly. City hotels can focus on accommodating shorter stays efficiently, while resort hotels can tailor experiences and amenities to cater to guests planning weeklong vacations.\n",
        "\n",
        "2.Optimizing Booking Channels: Recognizing the dominance of TA/TO bookings highlights the importance of partnerships with third-party agencies for both city and resort hotels. Hotels can leverage this insight to strengthen relationships with travel agents and tour operators, negotiate favorable terms, and implement targeted marketing campaigns to attract more guests through these channels.\n",
        "\n",
        "3.Deposit Type and Market Segments: Understanding the correlation between deposit types and market segments provides hotels with insights into guest preferences and behaviors. This information can inform pricing strategies, promotional offers, and deposit policies tailored to different market segments, ultimately enhancing revenue management and guest satisfaction.\n",
        "\n",
        "4.Lead Time for Early Bookings: Analyzing lead time by distribution channel helps hotels identify opportunities to optimize booking processes and revenue streams. Hotels can focus on streamlining direct booking channels, leveraging corporate partnerships, and implementing targeted marketing initiatives to drive early bookings and maximize occupancy rates."
      ],
      "metadata": {
        "id": "R4Ka1PC2phqR"
      }
    },
    {
      "cell_type": "markdown",
      "source": [
        "# **Guest Behavior Analysis:**"
      ],
      "metadata": {
        "id": "ROZuk4m_d4ZN"
      }
    },
    {
      "cell_type": "markdown",
      "source": [
        "# 1.1 Which meal type is most preferred meal of customer for city hotels?"
      ],
      "metadata": {
        "id": "flpZvsKkdwr2"
      }
    },
    {
      "cell_type": "code",
      "source": [
        "# Count the frequency of each meal type\n",
        "meal_counts_city = city_df['meal'].value_counts()\n",
        "\n",
        "print(meal_counts_city)"
      ],
      "metadata": {
        "id": "mAQTIvtqp1cj"
      },
      "execution_count": null,
      "outputs": []
    },
    {
      "cell_type": "code",
      "source": [
        "# Create a pie chart to visualize the distribution of meal types\n",
        "plt.figure(figsize=(6, 8))\n",
        "plt.pie(meal_counts_city, labels=meal_counts_city.index, autopct='%1.1f%%', startangle=140)\n",
        "plt.title('Distribution of Meal Types')\n",
        "plt.tight_layout()\n",
        "plt.show()"
      ],
      "metadata": {
        "id": "Pa2c8scFfB8a"
      },
      "execution_count": null,
      "outputs": []
    },
    {
      "cell_type": "markdown",
      "source": [
        "# 1.2 Which meal type is most preferred meal of customer for resort hotels?"
      ],
      "metadata": {
        "id": "GWcC8rSMeM68"
      }
    },
    {
      "cell_type": "code",
      "source": [
        "# Count the frequency of each meal type\n",
        "meal_counts_resort = resort_df['meal'].value_counts()\n",
        "\n",
        "print(meal_counts_resort)"
      ],
      "metadata": {
        "id": "_sAsxYEJftVW"
      },
      "execution_count": null,
      "outputs": []
    },
    {
      "cell_type": "code",
      "source": [
        "# Create a pie chart to visualize the distribution of meal types\n",
        "plt.figure(figsize=(6, 8))\n",
        "plt.pie(meal_counts_resort, labels=meal_counts_resort.index, autopct='%1.1f%%', startangle=140)\n",
        "plt.title('Distribution of Meal Types')\n",
        "plt.tight_layout()\n",
        "plt.show()"
      ],
      "metadata": {
        "id": "WuEqWgV3f4-j"
      },
      "execution_count": null,
      "outputs": []
    },
    {
      "cell_type": "markdown",
      "source": [
        "##### 1. Why did you pick the specific chart?"
      ],
      "metadata": {
        "id": "X_VqEhTip1ck"
      }
    },
    {
      "cell_type": "markdown",
      "source": [
        "Pie charts are effective for visualizing proportions and percentages, making them suitable for displaying the distribution of meal types. They provide a quick and easy way to compare the relative frequencies of different categories, allowing stakeholders to understand the popularity of each meal type at a glance. Additionally, pie charts are visually appealing and intuitive, making them accessible to a wide audience. Therefore, I choose pie charts as a suitable visualization for depicting the distribution of meal types in both city and resort hotels."
      ],
      "metadata": {
        "id": "-vsMzt_np1ck"
      }
    },
    {
      "cell_type": "markdown",
      "source": [
        "##### 2. What is/are the insight(s) found from the chart?"
      ],
      "metadata": {
        "id": "8zGJKyg5p1ck"
      }
    },
    {
      "cell_type": "markdown",
      "source": [
        "1.City Hotel:\n",
        "\n",
        "The most preferred meal type is \"Bed & Breakfast\" (BB), with a significantly higher number of bookings compared to other meal types.\n",
        "\n",
        "\"Room Only\" (SC) and \"Half Board\" (HB) are also popular choices, although they have fewer bookings compared to \"Bed & Breakfast\".\n",
        "\n",
        "\"Full Board\" (FB) is the least preferred meal type, with a very small number of bookings.\n",
        "\n",
        "2.Resort Hotel:\n",
        "\n",
        "Similar to city hotels, \"Bed & Breakfast\" (BB) is the most preferred meal type, with a higher number of bookings compared to other options.\n",
        "\n",
        "\"Half Board\" (HB) is the second most popular meal type, but it has fewer bookings compared to \"Bed & Breakfast\".\n",
        "\n",
        "\"Room Only\" (SC) has significantly fewer bookings compared to city hotels, indicating that guests at resort hotels are more inclined towards meal-inclusive options.\n",
        "\n",
        "There are a few bookings categorized as \"Undefined\", which may require further investigation to understand their nature and possible implications."
      ],
      "metadata": {
        "id": "ZYdMsrqVp1ck"
      }
    },
    {
      "cell_type": "markdown",
      "source": [
        "# Will the gained insights help creating a positive business impact for Guest Behavior Analysis?\n",
        "Are there any insights that lead to negative growth? Justify with specific reason."
      ],
      "metadata": {
        "id": "PVzmfK_Ep1ck"
      }
    },
    {
      "cell_type": "markdown",
      "source": [
        "1.Tailored Offerings: Understanding which meal types are most preferred by guests allows hotels to tailor their offerings accordingly. By prioritizing popular meal options such as \"Bed & Breakfast,\" hotels can ensure that they meet the expectations and preferences of a majority of their guests.\n",
        "\n",
        "2.Revenue Optimization: With knowledge of the most preferred meal types, hotels can optimize their revenue by strategically pricing and promoting these offerings. They can also identify opportunities to upsell meal packages or create special promotions to attract more guests.\n",
        "\n",
        "3.Guest Satisfaction: Offering the meal types that guests prefer can significantly enhance their overall experience and satisfaction during their stay. Satisfied guests are more likely to leave positive reviews, recommend the hotel to others, and become repeat customers, thereby fostering loyalty and driving future business."
      ],
      "metadata": {
        "id": "druuKYZpp1ck"
      }
    },
    {
      "cell_type": "markdown",
      "source": [
        "# **Revenue Insights:**\n",
        "\n"
      ],
      "metadata": {
        "id": "-M3SrqbfihEk"
      }
    },
    {
      "cell_type": "markdown",
      "source": [
        "# 1. Which hotel has more average daily rate(ADR) and hence seems to make more revenue?"
      ],
      "metadata": {
        "id": "ME0TOt4ijSsG"
      }
    },
    {
      "cell_type": "code",
      "source": [
        "# calculating average adr\n",
        "grouped_by_hotel = df_copy.groupby('hotel')\n",
        "d3 = grouped_by_hotel['adr'].agg(np.mean).reset_index().rename(columns = {'adr':'avg_adr'})   # calculating average adr\n",
        "print(d3)"
      ],
      "metadata": {
        "id": "bwevp1tKp1ck"
      },
      "execution_count": null,
      "outputs": []
    },
    {
      "cell_type": "code",
      "source": [
        "plt.figure(figsize = (8,5))\n",
        "sns.barplot(x = d3['hotel'], y = d3['avg_adr'] )\n",
        "plt.title(\" calculating average adr\")\n",
        "plt.show()"
      ],
      "metadata": {
        "id": "WEPRUrM9hLWc"
      },
      "execution_count": null,
      "outputs": []
    },
    {
      "cell_type": "markdown",
      "source": [
        "##### 1. Why did you pick the specific chart?"
      ],
      "metadata": {
        "id": "ylSl6qgtp1ck"
      }
    },
    {
      "cell_type": "markdown",
      "source": [
        "\n",
        "The bar plot chosen here effectively displays the average daily rate (ADR) for each hotel type (city hotel and resort hotel). This visualization allows for a clear comparison of ADR between the two hotel types, making it easy to identify which hotel type has a higher average rate."
      ],
      "metadata": {
        "id": "m2xqNkiQp1ck"
      }
    },
    {
      "cell_type": "markdown",
      "source": [
        "##### 2. What is/are the insight(s) found from the chart?"
      ],
      "metadata": {
        "id": "ZWILFDl5p1ck"
      }
    },
    {
      "cell_type": "markdown",
      "source": [
        "The insight from the chart is that, on average, the City Hotel has a higher average daily rate (ADR) compared to the Resort Hotel. This suggests that the City Hotel may potentially generate more revenue per room compared to the Resort Hotel.\n",
        "\n",
        "\n",
        "\n",
        "\n",
        "\n"
      ],
      "metadata": {
        "id": "x-lUsV2mp1ck"
      }
    },
    {
      "cell_type": "markdown",
      "source": [
        "# 2.What is the impact of offering different meal plans on revenue generation?"
      ],
      "metadata": {
        "id": "YEdTwDbNt-V3"
      }
    },
    {
      "cell_type": "code",
      "source": [
        "# Group the data by meal plan and calculate the total revenue for each meal plan\n",
        "meal_revenue = df_copy.groupby('meal')['adr'].sum().reset_index()\n",
        "print(meal_revenue)"
      ],
      "metadata": {
        "id": "9FSLBxakvszA"
      },
      "execution_count": null,
      "outputs": []
    },
    {
      "cell_type": "code",
      "source": [
        "# Plotting\n",
        "plt.figure(figsize=(10, 6))\n",
        "sns.barplot(x='meal', y='adr', data=meal_revenue, palette='Set2')\n",
        "plt.title('Revenue Generated by Meal Plan')\n",
        "plt.xlabel('Meal Plan')\n",
        "plt.ylabel('Total Revenue')\n",
        "plt.show()"
      ],
      "metadata": {
        "id": "EUfxeq9-p1cl"
      },
      "execution_count": null,
      "outputs": []
    },
    {
      "cell_type": "markdown",
      "source": [
        "##### 1. Why did you pick the specific chart?"
      ],
      "metadata": {
        "id": "E6MkPsBcp1cl"
      }
    },
    {
      "cell_type": "markdown",
      "source": [
        "\n",
        "The bar chart chosen here is effective for comparing the average daily rate (ADR) across different meal plans. It provides a clear visual representation of how the ADR varies for each meal plan, making it easy to identify which meal plan generates the highest revenue. The use of different colors for each bar enhances readability and allows for quick comparison."
      ],
      "metadata": {
        "id": "V22bRsFWp1cl"
      }
    },
    {
      "cell_type": "markdown",
      "source": [
        "##### 2. What is/are the insight(s) found from the chart?"
      ],
      "metadata": {
        "id": "2cELzS2fp1cl"
      }
    },
    {
      "cell_type": "markdown",
      "source": [
        "From the bar chart, it's evident that the Bed & Breakfast (BB) meal plan generates the highest revenue, followed by Half Board (HB) and Self Catering (SC). Full Board (FB) generates the least revenue among the meal plans. Additionally, there are some bookings categorized as \"Undefined,\" which contribute to revenue but are not associated with a specific meal plan. This insight suggests that offering a variety of meal plans, especially those with higher revenue potential like BB and HB, can positively impact overall revenue generation."
      ],
      "metadata": {
        "id": "ozQPc2_Ip1cl"
      }
    },
    {
      "cell_type": "markdown",
      "source": [
        "# 3.Can we visualize the revenue contribution from different market segments ?"
      ],
      "metadata": {
        "id": "Quak3IC5yu-w"
      }
    },
    {
      "cell_type": "code",
      "source": [
        "# Calculate revenue contribution from each market segment\n",
        "market_segment_revenue = df_copy.groupby('market_segment')['adr'].sum().reset_index()\n",
        "print(market_segment_revenue)"
      ],
      "metadata": {
        "id": "GGUlcss0yuJC"
      },
      "execution_count": null,
      "outputs": []
    },
    {
      "cell_type": "code",
      "source": [
        "# Plotting\n",
        "plt.figure(figsize=(10, 6))\n",
        "sns.barplot(x='market_segment', y='adr', data=df_copy, palette='Set2')\n",
        "plt.title('Revenue Contribution by Market Segment')\n",
        "plt.xlabel('Market Segment')\n",
        "plt.ylabel('Total Revenue')\n",
        "plt.xticks(rotation=45)\n",
        "plt.show()"
      ],
      "metadata": {
        "id": "5Ur7jtbMzfff"
      },
      "execution_count": null,
      "outputs": []
    },
    {
      "cell_type": "markdown",
      "source": [
        "#### 1. Why did you pick the specific chart?\n"
      ],
      "metadata": {
        "id": "w7o62nauzstG"
      }
    },
    {
      "cell_type": "markdown",
      "source": [
        "I choose a bar chart because it effectively displays the revenue contribution from different market segments. The x-axis represents the market segments, allowing for easy comparison, while the y-axis represents the total revenue generated by each segment. The bar heights provide a visual comparison of revenue contributions, making it easy to identify which segments contribute the most to the overall revenue."
      ],
      "metadata": {
        "id": "OFC0zyZ4z6Hv"
      }
    },
    {
      "cell_type": "markdown",
      "source": [
        "#### 2. What is/are the insight(s) found from the chart?"
      ],
      "metadata": {
        "id": "I4mKtQj60SSB"
      }
    },
    {
      "cell_type": "markdown",
      "source": [
        "1.Online Travel Agents (TA): Online TA contributes the highest revenue among all market segments, indicating that a significant portion of bookings comes from online travel agencies.\n",
        "\n",
        "2.Direct Bookings: Direct bookings also make a substantial contribution to revenue, suggesting that guests booking directly with the hotel contribute significantly to overall revenue.\n",
        "\n",
        "3.Corporate Bookings: Corporate bookings contribute a considerable amount to revenue, indicating that business travelers play a significant role in revenue generation.\n",
        "\n",
        "4.Groups: Revenue from group bookings is notable, indicating that group events or tours contribute significantly to overall revenue.\n",
        "\n",
        "5.Offline Travel Agents (TA/TO): Revenue from offline TA/TO is also significant but slightly lower compared to online TA.\n",
        "\n",
        "6.Other Segments: Aviation and Complementary segments contribute relatively lower revenue compared to other segments, indicating that they might represent niche or specialized markets."
      ],
      "metadata": {
        "id": "9on01qb80csh"
      }
    },
    {
      "cell_type": "markdown",
      "source": [
        "# 4.Can we visualize the revenue contribution from different booking channels?"
      ],
      "metadata": {
        "id": "qVMAPAi01JwN"
      }
    },
    {
      "cell_type": "code",
      "source": [
        "# Calculate revenue contribution from each distribution channel\n",
        "distribution_channel_revenue = df_copy.groupby('distribution_channel')['adr'].sum().reset_index()\n",
        "print(distribution_channel_revenue)"
      ],
      "metadata": {
        "id": "VtTFxqny1S34"
      },
      "execution_count": null,
      "outputs": []
    },
    {
      "cell_type": "code",
      "source": [
        "# Plotting\n",
        "plt.figure(figsize=(10, 6))\n",
        "sns.barplot(x='distribution_channel', y='adr', data=df_copy, palette='Set2')\n",
        "plt.title('Revenue Contribution by Distribution Channel')\n",
        "plt.xlabel('Distribution Channel')\n",
        "plt.ylabel('Total Revenue')\n",
        "plt.xticks(rotation=45)\n",
        "plt.show()"
      ],
      "metadata": {
        "id": "3N3iLoIq1y3m"
      },
      "execution_count": null,
      "outputs": []
    },
    {
      "cell_type": "markdown",
      "source": [
        "#### 1. Why did you pick the specific chart?"
      ],
      "metadata": {
        "id": "Z-Glm2nL2OrH"
      }
    },
    {
      "cell_type": "markdown",
      "source": [
        "I choose a bar plot because it effectively compares the revenue contribution across different distribution channels. The x-axis represents the distribution channels, allowing for easy comparison, while the y-axis represents the total revenue generated by each channel. The length of the bars directly corresponds to the revenue contribution, making it easy to interpret the data."
      ],
      "metadata": {
        "id": "k8mycdia2SS1"
      }
    },
    {
      "cell_type": "markdown",
      "source": [
        "#### 2.What is/are the insight(s) found from the chart?"
      ],
      "metadata": {
        "id": "urSYr5an2ezM"
      }
    },
    {
      "cell_type": "markdown",
      "source": [
        "1.TA/TO Dominance: The distribution channel \"TA/TO\" (Travel Agents/Tour Operators) contributes the most to revenue, with significantly higher revenue compared to other channels. This suggests that a substantial portion of bookings comes from third-party travel agencies or tour operators.\n",
        "\n",
        "2.Direct Bookings: Direct bookings follow TA/TO as the second-highest contributor to revenue. While their revenue is notably lower than TA/TO, direct bookings still make a significant impact on overall revenue generation.\n",
        "\n",
        "3.Corporate Contributions: Corporate bookings contribute a considerable amount to revenue, although their contribution is lower compared to TA/TO and direct bookings.\n",
        "\n",
        "4.GDS and Undefined Channels: The revenue contribution from the GDS (Global Distribution System) channel and the \"Undefined\" category is relatively minor compared to other channels. This indicates that these channels play a smaller role in revenue generation compared to TA/TO, direct bookings, and corporate bookings."
      ],
      "metadata": {
        "id": "BAyn3Cgk2qAu"
      }
    },
    {
      "cell_type": "markdown",
      "source": [
        "#  Will the gained insights help creating a positive business impact for Revenue Insights?\n",
        "Are there any insights that lead to negative growth? Justify with specific reason."
      ],
      "metadata": {
        "id": "3MPXvC8up1cl"
      }
    },
    {
      "cell_type": "markdown",
      "source": [
        "1.City Hotel ADR Superiority: Knowing that the City Hotel has a higher average daily rate (ADR) compared to the Resort Hotel suggests that the City Hotel may be able to generate more revenue per room. This insight could lead to strategies focused on optimizing room rates and maximizing revenue from each guest stay at the City Hotel.\n",
        "\n",
        "2.Meal Plan Revenue Optimization: Understanding which meal plans generate the highest revenue, such as Bed & Breakfast (BB) and Half Board (HB), allows hotels to tailor their offerings and marketing efforts to promote these higher-revenue meal plans. This could involve highlighting the benefits of these meal plans, offering attractive packages, or adjusting pricing strategies to encourage more bookings for these plans.\n",
        "\n",
        "3.Market Segment Revenue Focus: Identifying the market segments that contribute the most revenue, such as Online Travel Agents (TA) and direct bookings, enables hotels to prioritize marketing and sales efforts towards these segments. This might involve strengthening partnerships with online travel agencies, enhancing direct booking channels, or implementing targeted marketing campaigns to attract business from these lucrative segments.\n",
        "\n",
        "4.Distribution Channel Optimization: Recognizing the dominance of certain distribution channels, such as TA/TO and direct bookings, underscores the importance of channel management strategies. Hotels can focus on optimizing distribution channels that yield the highest revenue by negotiating better terms with third-party agencies, improving direct booking channels, or investing in technology to streamline distribution processes."
      ],
      "metadata": {
        "id": "GL8l1tdLp1cl"
      }
    },
    {
      "cell_type": "markdown",
      "source": [
        "# **Cancellation Patterns:**"
      ],
      "metadata": {
        "id": "sd0VMp2E_tjC"
      }
    },
    {
      "cell_type": "markdown",
      "source": [
        "# 1. How do cancellation rates vary across different months and seasons?"
      ],
      "metadata": {
        "id": "A3flz8qxAfmW"
      }
    },
    {
      "cell_type": "code",
      "source": [
        "# Group data by month and calculate cancellation rate\n",
        "monthly_cancellations = df_copy.groupby('arrival_date_month')['is_canceled'].mean()\n",
        "print(monthly_cancellations)\n"
      ],
      "metadata": {
        "id": "FUsiR_84Arsc"
      },
      "execution_count": null,
      "outputs": []
    },
    {
      "cell_type": "code",
      "source": [
        "#plotting\n",
        "plt.figure(figsize=(10, 6))\n",
        "monthly_cancellations.plot(marker='o')\n",
        "plt.title('Cancellation Rate by Month')\n",
        "plt.xlabel('Month')\n",
        "plt.ylabel('Cancellation Rate')\n",
        "plt.xticks(rotation=45)\n",
        "plt.grid(True)\n",
        "plt.show()"
      ],
      "metadata": {
        "id": "aSddayxtA0GY"
      },
      "execution_count": null,
      "outputs": []
    },
    {
      "cell_type": "markdown",
      "source": [
        "#### 1.Why did you pick the specific chart?"
      ],
      "metadata": {
        "id": "U9cgAMZuCQKf"
      }
    },
    {
      "cell_type": "markdown",
      "source": [
        "I choose a line plot to visualize the cancellation rate by month because it effectively displays the trend over time. Line plots are ideal for showing changes in a variable (in this case, cancellation rate) across different categories (months) in a sequential manner. The markers on the lines help highlight individual data points, making it easy to identify any significant fluctuations or patterns in cancellation rates throughout the year."
      ],
      "metadata": {
        "id": "OYNXAauFCkIz"
      }
    },
    {
      "cell_type": "markdown",
      "source": [
        "#### 2. What is/are the insight(s) found from the chart?"
      ],
      "metadata": {
        "id": "8KrtI5cLC4y5"
      }
    },
    {
      "cell_type": "markdown",
      "source": [
        "1.Seasonal Variation: The cancellation rate varies across different months of the year, indicating a seasonal pattern. For example, months like August and July have higher cancellation rates, suggesting increased cancellations during peak travel seasons, which typically coincide with summer vacations in many regions. Conversely, months like November and January have lower cancellation rates, possibly due to fewer travel activities during off-peak seasons or holidays.\n",
        "\n",
        "2.Potential Trends: While there is variation from month to month, there may also be underlying trends or patterns worth exploring further. For instance, there seems to be a general trend of higher cancellation rates during warmer months (e.g., July, August) and lower cancellation rates during colder months (e.g., November, January). However, this trend may vary depending on factors such as geographic location, holidays, and events.\n",
        "\n",
        "3.Strategic Insights: Understanding the seasonal variation in cancellation rates can help hotels and travel businesses optimize their operations and marketing strategies. For example, during peak travel seasons with higher cancellation rates, hotels may implement flexible booking policies or overbooking strategies to mitigate revenue loss from cancellations. Conversely, during slower months with lower cancellation rates, they may focus on attracting more bookings through targeted promotions or discounts."
      ],
      "metadata": {
        "id": "i7LcBowUC95p"
      }
    },
    {
      "cell_type": "markdown",
      "source": [
        "# 2. Can we visualize the reasons for cancellations (e.g., lead time, previous cancellations) using interactive charts?"
      ],
      "metadata": {
        "id": "gyGYrvkgDbfc"
      }
    },
    {
      "cell_type": "code",
      "source": [
        "# Grouping the data by lead time and previous cancellations and calculating the mean cancellation rate\n",
        "lead_time_prev_cancel_cancellation_rate = df.groupby(['lead_time', 'previous_cancellations'])['is_canceled'].mean().reset_index()\n",
        "\n",
        "# Display the calculated cancellation rates\n",
        "print(lead_time_prev_cancel_cancellation_rate)"
      ],
      "metadata": {
        "id": "zY-F26AtDwFW"
      },
      "execution_count": null,
      "outputs": []
    },
    {
      "cell_type": "code",
      "source": [
        "# Create a scatter plot\n",
        "fig = px.scatter(df, x='lead_time', y='previous_cancellations', color='is_canceled',\n",
        "                 hover_data=['lead_time', 'previous_cancellations'],\n",
        "                 title='Reasons for Cancellations',\n",
        "                 labels={'lead_time': 'Lead Time', 'previous_cancellations': 'Previous Cancellations'},\n",
        "                 color_discrete_map={0: 'blue', 1: 'red'})\n",
        "\n",
        "# Update layout\n",
        "fig.update_layout(xaxis_title='Lead Time',\n",
        "                  yaxis_title='Previous Cancellations',\n",
        "                  legend_title='Cancellation Status')\n",
        "\n",
        "# Show plot\n",
        "fig.show()"
      ],
      "metadata": {
        "id": "yWgJG6iKGnTB"
      },
      "execution_count": null,
      "outputs": []
    },
    {
      "cell_type": "markdown",
      "source": [
        "#### 1. Why did you pick the specific chart?"
      ],
      "metadata": {
        "id": "yZ5gxzcsH1Jb"
      }
    },
    {
      "cell_type": "markdown",
      "source": [
        "\n",
        "I choose the scatter plot because it allows us to visualize the relationship between lead time, previous cancellations, and cancellation status (whether the booking was canceled or not) in a single plot. The use of color coding helps distinguish between canceled and non-canceled bookings, while the hover data feature provides additional information when interacting with specific data points. This visualization enables us to identify any patterns or trends in cancellation behavior based on lead time and previous cancellations.\n",
        "\n",
        "\n",
        "\n",
        "\n"
      ],
      "metadata": {
        "id": "aheRXQXMH_3q"
      }
    },
    {
      "cell_type": "markdown",
      "source": [
        "#### 2. What is/are the insight(s) found from the chart?"
      ],
      "metadata": {
        "id": "OYpJJG95IPUe"
      }
    },
    {
      "cell_type": "markdown",
      "source": [
        "1.Cancellation Distribution: We observe various points representing different combinations of lead time and previous cancellations. Canceled bookings are denoted by red points, while non-canceled bookings are shown in blue.\n",
        "\n",
        "2.Cancellation Patterns: There seems to be a correlation between lead time, previous cancellations, and the likelihood of cancellation. Bookings with longer lead times and higher numbers of previous cancellations appear to have a higher probability of being canceled.\n",
        "\n",
        "3.Clusters: Certain clusters of points indicate distinct patterns. For instance, there are clusters of red points (canceled bookings) with high lead times and/or previous cancellations, suggesting areas where cancellations are more prevalent.\n",
        "\n",
        "4.Outliers: Some outliers might represent unusual cases where bookings with very high lead times or previous cancellations are either always canceled or never canceled."
      ],
      "metadata": {
        "id": "Urs3nanFIXJR"
      }
    },
    {
      "cell_type": "markdown",
      "source": [
        "# 3.What are the trends in cancellation rates for repeat guests versus new guests?"
      ],
      "metadata": {
        "id": "dH2Llj76J_7z"
      }
    },
    {
      "cell_type": "code",
      "source": [
        "# Categorize guests as repeat or new based on previous cancellations\n",
        "df['guest_type'] = 'New'\n",
        "df.loc[df['is_repeated_guest'] == 1, 'guest_type'] = 'Repeat'\n",
        "\n",
        "# Group data by arrival date month and guest type, and calculate cancellation rates\n",
        "cancellation_rates = df.groupby(['arrival_date_month', 'guest_type'])['is_canceled'].mean().reset_index()\n",
        "print(cancellation_rates)"
      ],
      "metadata": {
        "id": "SSzk0aPKJpjY"
      },
      "execution_count": null,
      "outputs": []
    },
    {
      "cell_type": "code",
      "source": [
        "# plotting\n",
        "plt.figure(figsize=(12, 6))\n",
        "sns.lineplot(data=cancellation_rates, x='arrival_date_month', y='is_canceled', hue='guest_type', marker='o')\n",
        "plt.title('Cancellation Rates for Repeat Guests vs. New Guests Over Time')\n",
        "plt.xlabel('Arrival Date Month')\n",
        "plt.ylabel('Cancellation Rate')\n",
        "plt.xticks(rotation=45)\n",
        "plt.grid(True)\n",
        "plt.legend(title='Guest Type')\n",
        "plt.show()"
      ],
      "metadata": {
        "id": "44FIxQ0AJ1Si"
      },
      "execution_count": null,
      "outputs": []
    },
    {
      "cell_type": "markdown",
      "source": [
        "#### 1. Why did you pick the specific chart?"
      ],
      "metadata": {
        "id": "ieZpPWFpKNiw"
      }
    },
    {
      "cell_type": "markdown",
      "source": [
        "A line plot allows us to compare the cancellation rates for different guest types (repeat and new) across various months, providing insights into how these rates change over time.Line plots are effective in displaying trends and patterns in data over continuous variables, such as time (months in this case). The lines connecting the data points make it easy to track changes and identify any notable patterns or fluctuations."
      ],
      "metadata": {
        "id": "700cV9FvKT0A"
      }
    },
    {
      "cell_type": "markdown",
      "source": [
        "#### 2. What is/are the insight(s) found from the chart?"
      ],
      "metadata": {
        "id": "HxLV3OKjKvR4"
      }
    },
    {
      "cell_type": "markdown",
      "source": [
        "1.Higher Cancellation Rate for New Guests: Across most months, new guests tend to have higher cancellation rates compared to repeat guests. This suggests that guests who are staying for the first time at the hotel are more likely to cancel their bookings, potentially due to uncertainties or changes in plans.\n",
        "\n",
        "2.Consistent Pattern Across Months: The pattern of higher cancellation rates for new guests holds relatively consistent across different months throughout the year. This indicates that the influence of guest type on cancellation behavior remains relatively stable over time.\n",
        "\n",
        "3.Variation in Magnitude: While the general trend of higher cancellation rates for new guests is consistent, there is some variation in the magnitude of cancellation rates between different months. For example, in June and April, the difference in cancellation rates between new and repeat guests is particularly pronounced.\n",
        "\n",
        "4.Repeat Guests Show Lower Cancellation Rates: Repeat guests consistently exhibit lower cancellation rates compared to new guests across all months. This suggests that guests who have previously stayed at the hotel are more likely to follow through with their bookings, indicating a higher level of commitment or satisfaction with their past experiences."
      ],
      "metadata": {
        "id": "WmIUMKP7Ky5V"
      }
    },
    {
      "cell_type": "markdown",
      "source": [
        "# 4.How many bookings were cancelled?"
      ],
      "metadata": {
        "id": "Ur7AJ4TuLPgJ"
      }
    },
    {
      "cell_type": "code",
      "source": [
        "# Calculate total number of canceled bookings\n",
        "total_cancelled_bookings = df['is_canceled'].sum()\n",
        "print(\"Total number of canceled bookings:\", total_cancelled_bookings)"
      ],
      "metadata": {
        "id": "tY0z0dnAMZY9"
      },
      "execution_count": null,
      "outputs": []
    },
    {
      "cell_type": "code",
      "source": [
        "# Count the number of canceled and non-canceled bookings\n",
        "cancelled_counts = df['is_canceled'].value_counts()\n",
        "\n",
        "print(cancelled_counts)"
      ],
      "metadata": {
        "id": "LNXdNFExL_OG"
      },
      "execution_count": null,
      "outputs": []
    },
    {
      "cell_type": "code",
      "source": [
        "# Plotting\n",
        "plt.figure(figsize=(6, 6))\n",
        "cancelled_counts.plot(kind='bar', color=['green', 'red'])\n",
        "plt.title('Cancelled Bookings')\n",
        "plt.xlabel('Cancellation Status')\n",
        "plt.ylabel('Number of Bookings')\n",
        "plt.xticks([0, 1], ['Not Canceled', 'Canceled'], rotation=0)\n",
        "plt.show()"
      ],
      "metadata": {
        "id": "fGFhvKRkMLtM"
      },
      "execution_count": null,
      "outputs": []
    },
    {
      "cell_type": "markdown",
      "source": [
        "#### 1. Why did you pick the specific chart?"
      ],
      "metadata": {
        "id": "AWPVQ7hfMqR7"
      }
    },
    {
      "cell_type": "markdown",
      "source": [
        "I choose a bar chart because it effectively displays the comparison between canceled and non-canceled bookings using distinct bars for each category. The use of contrasting colors (green for non-canceled and red for canceled) makes it easy to differentiate between the two categories. The chart's simplicity and clarity make it suitable for quickly understanding the distribution of canceled bookings in the dataset."
      ],
      "metadata": {
        "id": "3NxzRX_WMvyt"
      }
    },
    {
      "cell_type": "markdown",
      "source": [
        "#### 2. What is/are the insight(s) found from the chart?"
      ],
      "metadata": {
        "id": "ZZsn3saqM8Yf"
      }
    },
    {
      "cell_type": "markdown",
      "source": [
        "\n",
        "The insight from the chart indicates that there were 44,224 bookings that were canceled and 75,166 bookings that were not canceled. This suggests that cancellation is a common occurrence in the dataset, affecting a significant portion of the bookings."
      ],
      "metadata": {
        "id": "J0Q7GrMNNFe9"
      }
    },
    {
      "cell_type": "markdown",
      "source": [
        "# 5.What are cancellations by various market segments?"
      ],
      "metadata": {
        "id": "xl7d1ZQvNn-Y"
      }
    },
    {
      "cell_type": "code",
      "source": [
        "# Group data by market segment and cancellation status, then count the number of bookings\n",
        "cancellation_by_market_segment = df.groupby(['market_segment', 'is_canceled']).size().unstack()\n",
        "\n",
        "print(cancellation_by_market_segment)"
      ],
      "metadata": {
        "id": "PteJUHtuO6Sg"
      },
      "execution_count": null,
      "outputs": []
    },
    {
      "cell_type": "code",
      "source": [
        "# Plotting\n",
        "cancellation_by_market_segment.plot(kind='bar', stacked=True, figsize=(10, 6))\n",
        "plt.title('Cancellations by Market Segment')\n",
        "plt.xlabel('Market Segment')\n",
        "plt.ylabel('Number of Bookings')\n",
        "plt.xticks(rotation=45)\n",
        "plt.legend(title='Cancellation Status', labels=['Not Canceled', 'Canceled'])\n",
        "plt.show()"
      ],
      "metadata": {
        "id": "mRD5So01O8Gn"
      },
      "execution_count": null,
      "outputs": []
    },
    {
      "cell_type": "markdown",
      "source": [
        "#### 1. Why did you pick the specific chart?"
      ],
      "metadata": {
        "id": "-PO0fEvGPOkg"
      }
    },
    {
      "cell_type": "markdown",
      "source": [
        "I choose a stacked bar chart because it effectively visualizes the distribution of cancellations across different market segments while also allowing for a comparison between canceled and not canceled bookings within each segment. The stacked bars make it easy to see the total number of bookings in each segment as well as the proportion of cancellations within those segments. This visualization helps in understanding which market segments have higher cancellation rates and provides insights into potential areas for improvement in managing cancellations."
      ],
      "metadata": {
        "id": "40A1qh8HPUuB"
      }
    },
    {
      "cell_type": "markdown",
      "source": [
        "#### 2. What is/are the insight(s) found from the chart?"
      ],
      "metadata": {
        "id": "VE1kPzp3PjiN"
      }
    },
    {
      "cell_type": "markdown",
      "source": [
        "1.The \"Groups\" market segment has the highest number of cancellations, with 12,097 bookings canceled out of 19,811 total bookings.\n",
        "\n",
        "2.The \"Online TA\" segment also has a significant number of cancellations, with 20,739 bookings canceled out of 56,477 total bookings.\n",
        "\n",
        "3.The \"Offline TA/TO\" segment has a high number of cancellations as well, with 8,311 bookings canceled out of 24,219 total bookings.\n",
        "\n",
        "4.Other segments such as \"Corporate\" and \"Direct\" also show notable cancellation numbers, with 992 and 1,934 bookings canceled, respectively.\n",
        "\n",
        "5.The \"Undefined\" segment has a negligible number of cancellations, with only 2 bookings canceled out of an unspecified total."
      ],
      "metadata": {
        "id": "o3AxP1EPPnAD"
      }
    },
    {
      "cell_type": "markdown",
      "source": [
        "# 6.What are cancellations by various distribution channels?"
      ],
      "metadata": {
        "id": "Gzk26RY_Q3Qz"
      }
    },
    {
      "cell_type": "code",
      "source": [
        "# Group data by distribution channel and cancellation status, and count the number of bookings\n",
        "cancellations_by_channel = df.groupby(['distribution_channel', 'is_canceled']).size().unstack(fill_value=0)\n",
        "\n",
        "# Reset index to make the DataFrame suitable for visualization\n",
        "cancellations_by_channel.reset_index(inplace=True)\n",
        "\n",
        "# Rename columns for clarity\n",
        "cancellations_by_channel.columns.name = None  # Remove column index name\n",
        "cancellations_by_channel.columns = ['Distribution Channel', 'Not Canceled', 'Canceled']\n",
        "\n",
        "# Display the DataFrame\n",
        "print(cancellations_by_channel)"
      ],
      "metadata": {
        "id": "3T3RKWNtQ7u9"
      },
      "execution_count": null,
      "outputs": []
    },
    {
      "cell_type": "code",
      "source": [
        "# Plotting\n",
        "plt.figure(figsize=(10, 6))\n",
        "cancellations_by_channel.plot(kind='bar', x='Distribution Channel', stacked=True,\n",
        "                              color=['green', 'red'], ax=plt.gca())\n",
        "plt.title('Cancellations by Distribution Channel')\n",
        "plt.xlabel('Distribution Channel')\n",
        "plt.ylabel('Number of Bookings')\n",
        "plt.xticks(rotation=45, ha='right')\n",
        "plt.legend(title='Cancellation Status', labels=['Not Canceled', 'Canceled'])\n",
        "plt.tight_layout()\n",
        "plt.show()"
      ],
      "metadata": {
        "id": "2ou-8hxtRCIw"
      },
      "execution_count": null,
      "outputs": []
    },
    {
      "cell_type": "markdown",
      "source": [
        "#### 1. Why did you pick the specific chart?"
      ],
      "metadata": {
        "id": "VJcbYCn5RVvW"
      }
    },
    {
      "cell_type": "markdown",
      "source": [
        "I choose a stacked bar chart because it effectively illustrates the cancellation status (canceled vs. not canceled) for each distribution channel. By stacking the bars, it's easy to compare the total number of bookings along with the proportion of canceled bookings within each channel. This visualization provides a clear understanding of cancellation patterns across different distribution channels."
      ],
      "metadata": {
        "id": "PgaAbRNBRZ7F"
      }
    },
    {
      "cell_type": "markdown",
      "source": [
        "#### 2. What is/are the insight(s) found from the chart?"
      ],
      "metadata": {
        "id": "ITC8h9UBRri7"
      }
    },
    {
      "cell_type": "markdown",
      "source": [
        "1.TA/TO (Travel Agents/Tour Operators): This channel has the highest number of both canceled and not canceled bookings, with a significant number of cancellations compared to other channels.\n",
        "\n",
        "2.Direct Bookings: While direct bookings have fewer cancellations compared to TA/TO bookings, they still have a notable number of cancellations.\n",
        "\n",
        "3.Corporate Bookings: Corporate bookings show a relatively lower number of cancellations compared to TA/TO and direct bookings.\n",
        "\n",
        "4.GDS (Global Distribution System): The GDS channel has a minimal number of cancellations compared to other channels, indicating a lower cancellation rate.\n",
        "\n",
        "5.Undefined Channel: The undefined channel has a negligible number of bookings, with a small proportion being canceled."
      ],
      "metadata": {
        "id": "dmJ6VgsiRvY9"
      }
    },
    {
      "cell_type": "markdown",
      "source": [
        "# 7.What is the effects of deposit on cancellations?\n",
        "\n"
      ],
      "metadata": {
        "id": "a304cj8rSNcx"
      }
    },
    {
      "cell_type": "code",
      "source": [
        "# Calculate cancellation rate for each deposit type\n",
        "deposit_cancellation_rate = df.groupby('deposit_type')['is_canceled'].mean()\n",
        "\n",
        "# Display the cancellation rates\n",
        "print(deposit_cancellation_rate)"
      ],
      "metadata": {
        "id": "Oanw5Zj4SX_9"
      },
      "execution_count": null,
      "outputs": []
    },
    {
      "cell_type": "code",
      "source": [
        "# Plotting\n",
        "plt.figure(figsize=(8, 6))\n",
        "deposit_cancellation_rate.plot(kind='bar', color='darkgreen')\n",
        "plt.title('Cancellation Rate by Deposit Type')\n",
        "plt.xlabel('Deposit Type')\n",
        "plt.ylabel('Cancellation Rate')\n",
        "plt.xticks(rotation=45)\n",
        "plt.grid(axis='y', linestyle='--', alpha=0.7)\n",
        "plt.tight_layout()\n",
        "plt.show()"
      ],
      "metadata": {
        "id": "i-h5zejxSsQJ"
      },
      "execution_count": null,
      "outputs": []
    },
    {
      "cell_type": "markdown",
      "source": [
        "#### 1. Why did you pick the specific chart?"
      ],
      "metadata": {
        "id": "rRvQXZ8ES3QJ"
      }
    },
    {
      "cell_type": "markdown",
      "source": [
        "I choose a bar chart to visualize the cancellation rates for different deposit types because it effectively presents the comparison between multiple categories (deposit types) and their associated cancellation rates. Bar charts are commonly used for such comparisons, making it easy to interpret the relative differences in cancellation rates across deposit types. Additionally, the use of color helps distinguish between the categories, making the chart visually appealing and informative."
      ],
      "metadata": {
        "id": "YOFnzroTS9Ck"
      }
    },
    {
      "cell_type": "markdown",
      "source": [
        "#### 2. What is/are the insight(s) found from the chart?"
      ],
      "metadata": {
        "id": "lsjg5_NaTGBM"
      }
    },
    {
      "cell_type": "markdown",
      "source": [
        "1.No Deposit: Bookings made without any deposit (No Deposit) have a cancellation rate of approximately 28.4%. This suggests that a significant portion of bookings without a deposit end up being canceled.\n",
        "\n",
        "2.Non Refundable: Bookings with a non-refundable deposit have a very high cancellation rate, close to 99.4%. This indicates that once guests make a non-refundable deposit, they are highly unlikely to cancel their bookings.\n",
        "\n",
        "3.Refundable: Bookings with a refundable deposit have a cancellation rate of around 22.2%. While this cancellation rate is lower compared to non-refundable bookings, it still indicates that a portion of guests with refundable deposits end up canceling their bookings."
      ],
      "metadata": {
        "id": "6sctTjBqTcPS"
      }
    },
    {
      "cell_type": "markdown",
      "source": [
        "# 8.Which hotel has higher booking cancellation rate?"
      ],
      "metadata": {
        "id": "8B9rbj3HT_RJ"
      }
    },
    {
      "cell_type": "code",
      "source": [
        "# Calculate total bookings and cancellations for each hotel\n",
        "total_bookings = df.groupby('hotel')['is_canceled'].count()\n",
        "total_cancellations = df.groupby('hotel')['is_canceled'].sum()\n",
        "\n",
        "# Calculate cancellation rates\n",
        "cancellation_rates = (total_cancellations / total_bookings) * 100\n",
        "print(cancellation_rates)"
      ],
      "metadata": {
        "id": "GbO0ZKM_UFDJ"
      },
      "execution_count": null,
      "outputs": []
    },
    {
      "cell_type": "code",
      "source": [
        "# Plotting\n",
        "plt.figure(figsize=(8, 6))\n",
        "cancellation_rates.plot(kind='bar', color=['blue', 'orange'])\n",
        "plt.title('Booking Cancellation Rates by Hotel')\n",
        "plt.xlabel('Hotel')\n",
        "plt.ylabel('Cancellation Rate (%)')\n",
        "plt.xticks(rotation=0)\n",
        "plt.grid(axis='y', linestyle='--', alpha=0.7)\n",
        "plt.tight_layout()\n",
        "plt.show()"
      ],
      "metadata": {
        "id": "q5rx9KoqUOL4"
      },
      "execution_count": null,
      "outputs": []
    },
    {
      "cell_type": "markdown",
      "source": [
        "#### 1. Why did you pick the specific chart?"
      ],
      "metadata": {
        "id": "UBfCOcA0UT2B"
      }
    },
    {
      "cell_type": "markdown",
      "source": [
        "I choose a bar chart because it effectively compares the cancellation rates between the two hotels. The bars provide a clear visual representation of the cancellation rates for each hotel, allowing for easy comparison. The use of colors also enhances the readability of the chart, making it more engaging for viewers. Additionally, the chart includes axis labels and a title to provide context and clarity. Overall, the bar chart is a suitable choice for visualizing and comparing cancellation rates between different categories, such as hotel types."
      ],
      "metadata": {
        "id": "xkssx1_zUZPh"
      }
    },
    {
      "cell_type": "markdown",
      "source": [
        "#### 2. What is/are the insight(s) found from the chart?"
      ],
      "metadata": {
        "id": "9v_BMPmBUpVg"
      }
    },
    {
      "cell_type": "markdown",
      "source": [
        "The insight from the chart is that the City Hotel has a higher booking cancellation rate compared to the Resort Hotel. Approximately 41.73% of bookings at the City Hotel are cancelled, while the cancellation rate at the Resort Hotel is lower, at around 27.76%. This indicates that guests are more likely to cancel their bookings at the City Hotel compared to the Resort Hotel."
      ],
      "metadata": {
        "id": "NxcmVzfJU-7v"
      }
    },
    {
      "cell_type": "markdown",
      "source": [
        "# Will the gained insights help creating a positive business impact for Cancellation Patterns?"
      ],
      "metadata": {
        "id": "D3WrCJb4VOAW"
      }
    },
    {
      "cell_type": "markdown",
      "source": [
        "1.Seasonal Adaptation: Understanding the seasonal variation in cancellation rates enables hotels to adapt their strategies accordingly. During peak travel seasons with higher cancellation rates, hotels can implement flexible booking policies or overbooking strategies to mitigate revenue loss from cancellations. Conversely, during slower months with lower cancellation rates, hotels may focus on attracting more bookings through targeted promotions or discounts.\n",
        "\n",
        "2.Operational Optimization: By identifying cancellation trends, hotels can optimize their operations to better manage cancellations. For example, they can adjust staffing levels, inventory management, and resource allocation based on anticipated cancellation patterns, ensuring efficient utilization of resources.\n",
        "\n",
        "3.Customer Experience Enhancement: Insights into cancellation patterns can help hotels improve the overall customer experience. By analyzing the reasons for cancellations and addressing common pain points, such as rigid cancellation policies or lack of flexibility, hotels can enhance customer satisfaction and loyalty.\n",
        "\n",
        "4.Revenue Maximization: By strategically managing cancellations, hotels can maximize revenue generation. For example, implementing dynamic pricing strategies or offering incentives for non-refundable bookings can help minimize revenue loss from cancellations and optimize revenue potential."
      ],
      "metadata": {
        "id": "72XlKZGRVfzW"
      }
    },
    {
      "cell_type": "markdown",
      "source": [
        "# **Operational Efficiency:**"
      ],
      "metadata": {
        "id": "4googatYmEI6"
      }
    },
    {
      "cell_type": "markdown",
      "source": [
        "# 1.How does the availability of parking spaces correlate with booking volumes and revenue?"
      ],
      "metadata": {
        "id": "yGi_T-lZmKvL"
      }
    },
    {
      "cell_type": "code",
      "source": [
        "# Extracting relevant columns\n",
        "parking_data = df_copy[['required_car_parking_spaces', 'booking_changes', 'adr']]\n",
        "\n",
        "# Calculating correlation coefficients\n",
        "correlation_matrix = parking_data.corr()\n",
        "print(correlation_matrix)"
      ],
      "metadata": {
        "id": "vCGmGRqnmZVB"
      },
      "execution_count": null,
      "outputs": []
    },
    {
      "cell_type": "code",
      "source": [
        "corr_df= correlation_matrix.corr()\n",
        "plt.figure(figsize=(10,5))\n",
        "sns.heatmap(corr_df, vmin=-1,annot=True,cmap='coolwarm')"
      ],
      "metadata": {
        "id": "Bpxr7MyJnJK-"
      },
      "execution_count": null,
      "outputs": []
    },
    {
      "cell_type": "markdown",
      "source": [
        "#### 1. Why did you pick the specific chart?"
      ],
      "metadata": {
        "id": "OkREss0NnPNp"
      }
    },
    {
      "cell_type": "markdown",
      "source": [
        "I choose a correlation heatmap to visualize the relationships between the variables 'required_car_parking_spaces', 'booking_changes', and 'adr'. This heatmap provides a clear and concise overview of the correlation coefficients between these variables, allowing for easy interpretation of their associations."
      ],
      "metadata": {
        "id": "eAFksEplnrUw"
      }
    },
    {
      "cell_type": "markdown",
      "source": [
        "#### 2. What is/are the insight(s) found from the chart?"
      ],
      "metadata": {
        "id": "XPSJOxhrnyZ8"
      }
    },
    {
      "cell_type": "markdown",
      "source": [
        "1.Required Car Parking Spaces vs. Booking Changes: There is a very weak positive correlation (0.050659) between the number of required car parking spaces and the number of booking changes. This suggests that there is a slight tendency for bookings with more required parking spaces to have more changes, but the relationship is not strong.\n",
        "\n",
        "2.Required Car Parking Spaces vs. Average Daily Rate (ADR): There is a very weak positive correlation (0.039013) between the number of required car parking spaces and the ADR. This indicates that there is a slight tendency for bookings with more required parking spaces to have a slightly higher ADR, but again, the relationship is not significant.\n",
        "\n",
        "3.Booking Changes vs. ADR: There is a very weak positive correlation (0.010186) between the number of booking changes and the ADR. This suggests that there is a slight tendency for bookings with more changes to have a slightly higher ADR, but the relationship is minimal."
      ],
      "metadata": {
        "id": "RFyb30D7n3T8"
      }
    },
    {
      "cell_type": "markdown",
      "source": [
        "# Will the gained insights help creating a positive business impact for Operational Efficiency?"
      ],
      "metadata": {
        "id": "zrO3O6qBsmu0"
      }
    },
    {
      "cell_type": "markdown",
      "source": [
        "1.Optimizing Parking Space Allocation: Understanding the weak correlation between required car parking spaces and booking changes can help hotel management optimize parking space allocation. While there is a slight tendency for bookings with more required parking spaces to have more changes, this relationship is not strong enough to drive significant operational changes. However, it may still be useful for management to consider when allocating parking spaces to ensure efficient use of available resources.\n",
        "\n",
        "2.Revenue Management: The weak positive correlation between required car parking spaces and ADR suggests that there may be a slight impact on revenue generation. While bookings with more required parking spaces tend to have a slightly higher ADR, the relationship is not significant enough to drive substantial revenue optimization strategies. Revenue management efforts should focus on more impactful factors affecting ADR, such as room type, seasonality, and pricing strategies.\n",
        "\n",
        "3.Monitoring Booking Changes: The weak positive correlation between booking changes and ADR indicates that there may be some relationship between the two variables. Monitoring booking changes can provide insights into guest behavior and preferences, which can inform operational decisions such as staffing levels, inventory management, and service offerings. However, the impact on ADR may be minimal, and other factors may have a more significant influence on revenue optimization."
      ],
      "metadata": {
        "id": "tyzI7vjltIVV"
      }
    },
    {
      "cell_type": "markdown",
      "source": [
        "# Correlation Heatmap"
      ],
      "metadata": {
        "id": "NC_X3p0fY2L0"
      }
    },
    {
      "cell_type": "code",
      "source": [
        "# Calculate the correlation matrix\n",
        "corr_df_data = df_copy[['lead_time', 'previous_cancellations', 'previous_bookings_not_canceled', 'booking_changes', 'days_in_waiting_list','adr',\n",
        "          'required_car_parking_spaces','total_of_special_requests','total_night_stayed']]\n",
        "print(corr_df_data)\n"
      ],
      "metadata": {
        "id": "xyC9zolEZNRQ"
      },
      "execution_count": null,
      "outputs": []
    },
    {
      "cell_type": "code",
      "source": [
        "corr_df= corr_df_data.corr()\n",
        "plt.figure(figsize=(10,5))\n",
        "sns.heatmap(corr_df, vmin=-1,annot=True,cmap='coolwarm')"
      ],
      "metadata": {
        "id": "ufqYlGltVt-o"
      },
      "execution_count": null,
      "outputs": []
    },
    {
      "cell_type": "markdown",
      "source": [
        "##### 1. Why did you pick the specific chart?"
      ],
      "metadata": {
        "id": "UV0SzAkaZNRQ"
      }
    },
    {
      "cell_type": "markdown",
      "source": [
        "The heatmap you've choosen is a great way to visualize the correlation between different numerical features in your dataset. Heatmaps provide a clear and concise overview of the pairwise correlations between variables, making it easy to identify patterns and relationships."
      ],
      "metadata": {
        "id": "DVPuT8LYZNRQ"
      }
    },
    {
      "cell_type": "markdown",
      "source": [
        "##### 2. What is/are the insight(s) found from the chart?"
      ],
      "metadata": {
        "id": "YPEH6qLeZNRQ"
      }
    },
    {
      "cell_type": "markdown",
      "source": [
        "1.Lead Time and Previous Cancellations: There is a positive correlation between lead time and previous cancellations. This suggests that as the lead time increases (i.e., the time between booking and arrival), the likelihood of previous cancellations also increases. It implies that guests who have previously canceled their bookings tend to book further in advance.\n",
        "\n",
        "2.Booking Changes and Previous Cancellations: There is a weak positive correlation between booking changes and previous cancellations. This indicates that guests who have previously canceled their bookings may be more likely to make changes to their bookings before arrival.\n",
        "\n",
        "3.Required Car Parking Spaces and Total Special Requests: There is a weak positive correlation between the number of required car parking spaces and the total number of special requests. This suggests that guests who require more car parking spaces may also have more special requests, such as specific room preferences or amenities.\n",
        "\n",
        "4.Total Night Stayed and ADR (Average Daily Rate): There is no significant correlation between the total number of nights stayed and the average daily rate (ADR). This implies that the length of stay does not strongly influence the ADR, indicating that guests may not receive discounted rates for longer stays."
      ],
      "metadata": {
        "id": "bfSqtnDqZNRR"
      }
    },
    {
      "cell_type": "markdown",
      "source": [
        "# **5. Solution to Business Objective**"
      ],
      "metadata": {
        "id": "JcMwzZxoAimU"
      }
    },
    {
      "cell_type": "markdown",
      "source": [
        "#### What do you suggest the client to achieve Business Objective ?\n",
        "Explain Briefly."
      ],
      "metadata": {
        "id": "8G2x9gOozGDZ"
      }
    },
    {
      "cell_type": "markdown",
      "source": [
        "**Improve Revenue Optimization:**\n",
        "\n",
        "1.Dynamic Pricing Strategies: Implement dynamic pricing strategies based on demand fluctuations, seasonal patterns, and booking lead times to optimize revenue generation.\n",
        "\n",
        "2.Upselling and Cross-selling: Offer personalized upselling and cross-selling options during the booking process to increase average order value and maximize revenue per guest.\n",
        "\n",
        "3.Promotional Packages: Introduce attractive promotional packages or bundled offers targeting specific market segments to stimulate demand and increase revenue.\n",
        "\n",
        "4.Enhance Ancillary Revenue: Explore opportunities to enhance ancillary revenue streams, such as offering premium services, experiences, or add-on amenities to guests.\n",
        "\n",
        "**Enhance Guest Satisfaction:**\n",
        "\n",
        "1.Personalized Guest Experience: Implement personalized guest experience initiatives by leveraging guest data and preferences to provide tailored services and recommendations.\n",
        "\n",
        "2.Streamlined Booking Process: Simplify and streamline the booking process to enhance convenience for guests, offering flexible booking options and transparent policies.\n",
        "\n",
        "3.High-Quality Service Standards: Maintain high-quality service standards across all touchpoints, including pre-arrival communication, on-site services, and post-stay follow-up, to ensure guest satisfaction and loyalty.\n",
        "\n",
        "4.Feedback Mechanisms: Establish effective feedback mechanisms to capture guest feedback and sentiments, enabling continuous improvement based on guest insights and preferences.\n",
        "\n",
        "**Maximize Bookings:**\n",
        "\n",
        "1.Optimized Distribution Channels: Optimize distribution channels by leveraging data analytics to identify high-performing channels and allocate resources effectively to maximize bookings and reach target markets.\n",
        "\n",
        "2.Strategic Partnerships: Form strategic partnerships with online travel agencies, tour operators, and other relevant partners to expand reach and attract a diverse range of guests.\n",
        "\n",
        "3.Targeted Marketing Campaigns: Develop targeted marketing campaigns tailored to different market segments, demographics, and booking behaviors to drive demand and increase bookings.\n",
        "\n",
        "4.Incentives and Loyalty Programs: Offer incentives, discounts, and loyalty programs to incentivize repeat bookings, referrals, and extended stays, thereby maximizing occupancy and revenue.\n",
        "\n",
        "**Minimize Cancellations:**\n",
        "\n",
        "1.Flexible Booking Policies: Implement flexible booking policies, including free cancellation options and transparent terms, to reduce barriers to booking and minimize cancellations.\n",
        "\n",
        "2.Proactive Communication: Proactively communicate with guests through personalized emails or messages, providing relevant information, updates, and incentives to encourage commitment and reduce cancellations.\n",
        "\n",
        "3.Overbooking Strategies: Implement overbooking strategies based on historical data and demand forecasts to optimize occupancy rates while mitigating the impact of cancellations and no-shows.\n",
        "\n",
        "4.Cancellation Analysis: Continuously analyze cancellation patterns and reasons to identify trends, anticipate potential cancellations, and implement proactive measures to address underlying issues."
      ],
      "metadata": {
        "id": "pASKb0qOza21"
      }
    },
    {
      "cell_type": "markdown",
      "source": [
        "# **Conclusion**"
      ],
      "metadata": {
        "id": "gCX9965dhzqZ"
      }
    },
    {
      "cell_type": "markdown",
      "source": [
        "1.  The analysis highlights seasonal variations in booking volumes for both city hotels and resort hotels. Peak seasons, notably during the summer months, drive increased demand for accommodations. City hotels consistently maintain higher booking volumes throughout the year, indicating potential attractiveness for both business and leisure travelers. Conversely, off-peak months present opportunities for targeted marketing efforts to stimulate demand. Understanding these patterns enables hotels to optimize strategies and resources to meet guest expectations and maximize revenue across different seasons.\n",
        "\n",
        "2. Both city hotels and resort hotels exhibit consistent distributions of bookings across different days of the month, reflecting stable patterns without notable outliers. While fluctuations occur, there is no discernible trend or anomaly, suggesting regular booking activity throughout the month for both hotel types. This consistency provides valuable insights for operational planning and resource allocation, enabling hotels to effectively manage capacity and meet guest demands across various days of the month.\n",
        "\n",
        "3. The analysis reveals a consistent upward trend in average booking lead time for both city and resort hotels from 2015 to 2017. Resort hotels consistently exhibit higher lead times compared to city hotels throughout these years. Despite the increasing trend, the growth rate remains relatively steady, indicating a gradual shift towards longer advance bookings without significant fluctuations. This insight can inform strategic decisions related to pricing, marketing campaigns, and resource allocation to better accommodate guest booking behaviors and optimize revenue.\n",
        "\n",
        "4. The analysis highlights that city hotels exhibit a higher total number of bookings compared to resort hotels in the dataset. City hotels, with 53,274 bookings, outpace resort hotels, which have 33,956 bookings. This disparity suggests distinct market segments for each hotel type, with city hotels potentially attracting business travelers and urban tourists, while resort hotels cater to vacationers seeking leisure and relaxation. Understanding these differences can inform targeted marketing strategies and service offerings to better meet the needs of each segment and optimize revenue.\n",
        "\n",
        "5. The analysis of guest origins underscores the hotel's global reach and diverse clientele. With Portugal, the United Kingdom, France, Spain, and Germany emerging as top guest-originating countries, the hotel has a strong international presence. This insight enables the hotel to tailor its services and marketing strategies to meet the unique needs and preferences of guests from different regions, enhancing guest satisfaction and fostering a welcoming environment for a global audience.\n",
        "\n",
        "6. The analysis highlights the dominance of transient guests across both city and resort hotels, indicating their significance in the hospitality industry. While city hotels attract a slightly higher number of group guests, resort hotels accommodate a larger proportion of contract guests, potentially due to their settings and amenities. Furthermore, the distribution of transient-party guests underscores the distinct preferences and booking behaviors observed between city and resort accommodations, guiding tailored marketing strategies and service offerings to meet diverse guest needs.\n",
        "\n",
        "7. The analysis reveals that short-term stays, spanning 1 to 3 nights, are prevalent across both city and resort hotels, reflecting common guest booking preferences. City hotels attract a higher proportion of shorter stays, while resort hotels accommodate a diverse range of durations, with a notable peak at 7 nights, indicative of weeklong vacation stays. This highlights the distinct booking patterns between urban and leisure-oriented accommodations, guiding strategic decisions to optimize room inventory and tailor guest experiences for different stay durations.\n",
        "\n",
        "8. The analysis underscores the dominance of Travel Agents/Tour Operators (TA/TO) as the primary distribution channel for bookings in both city and resort hotels, highlighting the significant role of third-party intermediaries in the hospitality industry. Additionally, direct bookings and corporate bookings contribute substantially to the distribution channels, indicating diverse booking sources for both types of hotels. However, the presence of a small number of bookings categorized as \"Undefined\" warrants further investigation to ensure data accuracy and understand any underlying factors influencing this category.\n",
        "\n",
        "9. The analysis reveals that in both city and resort hotels, the majority of bookings with \"No Deposit\" originate from the Online TA market segment, indicating a strong preference for this channel among guests who do not require deposits. Direct bookings also contribute significantly, while Non Refund and Refundable deposit types show minimal representation across all market segments, underscoring a consistent trend in deposit preferences across different booking channels.\n",
        "\n",
        "10. The analysis highlights variations in average lead times across different distribution channels for both city and resort hotels. Direct bookings generally exhibit the shortest lead times, indicating a preference for last-minute reservations or bookings made directly by guests. Corporate bookings follow with slightly longer lead times, suggesting more planned or organized travel arrangements. TA/TO bookings, on the other hand, consistently show the longest lead times, implying a longer booking process often associated with third-party intermediaries.\n",
        "\n",
        "11. The analysis reveals that \"Bed & Breakfast\" is the preferred meal type for guests in both city and resort hotels, indicating a preference for meal-inclusive options. While \"Half Board\" is also popular, it is less favored compared to \"Bed & Breakfast.\" Interestingly, the \"Room Only\" option has fewer bookings in resort hotels compared to city hotels, suggesting that guests staying at resort accommodations may prioritize meal-inclusive packages. The presence of \"Undefined\" categories warrants further investigation to ensure accurate categorization and understand potential implications for guest preferences.\n",
        "\n",
        "12. The analysis indicates that the City Hotel boasts a higher average daily rate (ADR) compared to the Resort Hotel on average. This finding suggests that the City Hotel has the potential to generate more revenue per room in comparison to the Resort Hotel. Such insights into revenue differentials between the two types of accommodations can inform strategic decisions regarding pricing strategies, marketing efforts, and resource allocation to optimize revenue generation for both hotels.\n",
        "\n",
        "13. The analysis of meal plan revenue reveals that Bed & Breakfast (BB) generates the highest revenue, followed by Half Board (HB) and Self Catering (SC), while Full Board (FB) generates the least revenue. Additionally, bookings categorized as \"Undefined\" also contribute to revenue. This insight underscores the importance of offering a diverse range of meal plans, particularly those with higher revenue potential like BB and HB, to maximize overall revenue generation. Such findings can guide strategic decisions regarding meal plan offerings and marketing strategies aimed at enhancing revenue optimization for the hotel.\n",
        "\n",
        "14. The analysis highlights that revenue from Online Travel Agents (TA) is the highest among all market segments, followed closely by Direct Bookings and Corporate Bookings. Group bookings also make a notable contribution to revenue, indicating the significance of group events or tours. While Offline Travel Agents (TA/TO) contribute significantly, revenue from Aviation and Complementary segments is comparatively lower. These insights emphasize the importance of online channels and direct bookings in revenue generation, alongside the significant contribution of corporate and group bookings.\n",
        "\n",
        "15. The analysis underscores the dominance of the TA/TO distribution channel in revenue generation, indicating a strong reliance on third-party travel agencies and tour operators. Direct bookings follow closely behind, making a significant contribution to overall revenue. While corporate bookings also contribute notably, channels like GDS and Undefined have comparatively minor roles in revenue generation. These insights emphasize the importance of strategic partnerships with travel agents and the direct booking channel in maximizing revenue for the hotel.\n",
        "\n",
        "16. The analysis reveals a clear seasonal pattern in cancellation rates, with higher rates during peak travel seasons and lower rates during off-peak periods. This insight underscores the importance of strategic planning to adapt to fluctuating demand throughout the year. By implementing flexible booking policies and targeted promotions, hotels can effectively optimize revenue and mitigate the impact of cancellations, ultimately enhancing overall operational efficiency and guest satisfaction.\n",
        "\n",
        "17. The analysis of cancellation patterns highlights the importance of lead time and previous cancellations in predicting the likelihood of future cancellations. Clusters of data points indicate specific scenarios where cancellations are more prevalent, potentially informing targeted strategies to mitigate cancellations. Identifying outliers can also provide valuable insights into extreme cases that may require special attention or intervention to minimize their impact on overall cancellation rates.\n",
        "\n",
        "18. The analysis reveals a consistent trend of higher cancellation rates among new guests compared to repeat guests across various months. This underscores the importance of guest segmentation and targeted strategies to address the unique needs and concerns of new guests, potentially through personalized communication or incentive programs to enhance booking commitment. Additionally, the lower cancellation rates among repeat guests highlight the significance of guest loyalty and satisfaction in fostering booking reliability and revenue stability for the hotel.\n",
        "\n",
        "19. The analysis underscores the prevalence of booking cancellations within the dataset, with 44,224 bookings canceled compared to 75,166 bookings that were not canceled. This highlights the substantial impact of cancellations on the hotel's operations and revenue management. Understanding the factors contributing to cancellations and implementing strategies to mitigate their occurrence, such as flexible booking policies or targeted marketing efforts, could be crucial for optimizing revenue and enhancing overall operational efficiency.\n",
        "\n",
        "20. The analysis reveals varying cancellation patterns across different market segments. While the \"Groups\" segment exhibits the highest cancellation rate, other segments such as \"Online TA\" and \"Offline TA/TO\" also experience significant cancellations. Understanding these patterns can aid in developing targeted strategies to reduce cancellations and improve overall booking stability, thereby enhancing operational efficiency and revenue optimization.\n",
        "\n",
        "21. The analysis highlights TA/TO as the dominant channel with both the highest number of bookings and cancellations, suggesting potential areas for targeted intervention to mitigate cancellations. Direct bookings, while fewer in number, still contribute to cancellations, emphasizing the importance of strategies to enhance booking stability across all channels. Understanding these patterns can inform tailored approaches to minimize cancellations and optimize revenue generation effectively.\n",
        "\n",
        "22. The analysis underscores the influence of deposit policies on cancellation rates, with non-refundable deposits exhibiting the highest retention of bookings. Conversely, bookings made without any deposit or with refundable deposits show comparatively higher cancellation rates. This suggests the importance of deposit policies in managing booking stability and optimizing revenue while considering guest preferences for flexibility.\n",
        "\n",
        "23. The comparison between City and Resort Hotels reveals a notable disparity in booking cancellation rates, with the City Hotel experiencing a significantly higher cancellation rate of approximately 41.73%, compared to the Resort Hotel's lower rate of around 27.76%. This insight underscores the importance of understanding factors contributing to cancellation behaviors and implementing strategies tailored to each hotel type to mitigate revenue loss and enhance guest satisfaction.\n",
        "\n",
        "24. The analysis reveals subtle correlations among required car parking spaces, booking changes, and average daily rates (ADR). While there's a slight tendency for bookings with more parking spaces to experience more changes and possibly higher ADR, these relationships are weak. These insights suggest that factors beyond parking requirements primarily influence booking changes and ADR, underscoring the need for a comprehensive approach to revenue optimization and guest satisfaction.\n",
        "\n",
        "25. The analysis highlights correlations between various factors impacting guest behavior and hotel operations. While lead time and previous cancellations exhibit a positive relationship, indicating potential booking patterns, weak correlations between booking changes, parking needs, and special requests suggest nuanced guest preferences. Additionally, the lack of correlation between total nights stayed and ADR underscores the complexity of pricing strategies and guest dynamics in revenue optimization efforts."
      ],
      "metadata": {
        "id": "Fjb1IsQkh3yE"
      }
    },
    {
      "cell_type": "markdown",
      "source": [
        "### ***Hurrah! You have successfully completed your EDA Capstone Project !!!***"
      ],
      "metadata": {
        "id": "gIfDvo9L0UH2"
      }
    }
  ]
}